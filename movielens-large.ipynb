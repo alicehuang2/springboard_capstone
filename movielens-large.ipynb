{
 "cells": [
  {
   "cell_type": "markdown",
   "metadata": {},
   "source": [
    "# Intro\n",
    "\n",
    "This dataset describes 5-star rating and free text tagging activity from Movielens. \n",
    "It contains 27,753,444 ratings across 58,098 movies. These data were created by 283,228 users between 1/9/95 to 9/26/18. This dataset was generated on 9/26/18.\n",
    "\n",
    "Users were selected at random. All selected users had rated at least 1 movies. "
   ]
  },
  {
   "cell_type": "code",
   "execution_count": 1,
   "metadata": {},
   "outputs": [],
   "source": [
    "from datetime import datetime\n",
    "from IPython.display import Markdown\n",
    "import pandas as pd\n",
    "import numpy as np\n",
    "import seaborn as sns\n",
    "import matplotlib.pyplot as plt\n",
    "plt.style.use('ggplot')\n",
    "\n",
    "%matplotlib inline"
   ]
  },
  {
   "cell_type": "code",
   "execution_count": 2,
   "metadata": {},
   "outputs": [],
   "source": [
    "movies = pd.read_csv('ml-latest/movies.csv', sep=',')\n",
    "ratings = pd.read_csv('ml-latest/ratings.csv', sep=',')"
   ]
  },
  {
   "cell_type": "code",
   "execution_count": 3,
   "metadata": {},
   "outputs": [
    {
     "data": {
      "text/html": [
       "<div>\n",
       "<style scoped>\n",
       "    .dataframe tbody tr th:only-of-type {\n",
       "        vertical-align: middle;\n",
       "    }\n",
       "\n",
       "    .dataframe tbody tr th {\n",
       "        vertical-align: top;\n",
       "    }\n",
       "\n",
       "    .dataframe thead th {\n",
       "        text-align: right;\n",
       "    }\n",
       "</style>\n",
       "<table border=\"1\" class=\"dataframe\">\n",
       "  <thead>\n",
       "    <tr style=\"text-align: right;\">\n",
       "      <th></th>\n",
       "      <th>movieId</th>\n",
       "      <th>title</th>\n",
       "      <th>genres</th>\n",
       "    </tr>\n",
       "  </thead>\n",
       "  <tbody>\n",
       "    <tr>\n",
       "      <th>0</th>\n",
       "      <td>1</td>\n",
       "      <td>Toy Story (1995)</td>\n",
       "      <td>Adventure|Animation|Children|Comedy|Fantasy</td>\n",
       "    </tr>\n",
       "    <tr>\n",
       "      <th>1</th>\n",
       "      <td>2</td>\n",
       "      <td>Jumanji (1995)</td>\n",
       "      <td>Adventure|Children|Fantasy</td>\n",
       "    </tr>\n",
       "    <tr>\n",
       "      <th>2</th>\n",
       "      <td>3</td>\n",
       "      <td>Grumpier Old Men (1995)</td>\n",
       "      <td>Comedy|Romance</td>\n",
       "    </tr>\n",
       "  </tbody>\n",
       "</table>\n",
       "</div>"
      ],
      "text/plain": [
       "   movieId                    title  \\\n",
       "0        1         Toy Story (1995)   \n",
       "1        2           Jumanji (1995)   \n",
       "2        3  Grumpier Old Men (1995)   \n",
       "\n",
       "                                        genres  \n",
       "0  Adventure|Animation|Children|Comedy|Fantasy  \n",
       "1                   Adventure|Children|Fantasy  \n",
       "2                               Comedy|Romance  "
      ]
     },
     "execution_count": 3,
     "metadata": {},
     "output_type": "execute_result"
    }
   ],
   "source": [
    "movies.head(3)"
   ]
  },
  {
   "cell_type": "code",
   "execution_count": 4,
   "metadata": {},
   "outputs": [
    {
     "name": "stdout",
     "output_type": "stream",
     "text": [
      "<class 'pandas.core.frame.DataFrame'>\n",
      "RangeIndex: 58098 entries, 0 to 58097\n",
      "Data columns (total 3 columns):\n",
      "movieId    58098 non-null int64\n",
      "title      58098 non-null object\n",
      "genres     58098 non-null object\n",
      "dtypes: int64(1), object(2)\n",
      "memory usage: 1.3+ MB\n"
     ]
    }
   ],
   "source": [
    "movies.info()"
   ]
  },
  {
   "cell_type": "code",
   "execution_count": 5,
   "metadata": {},
   "outputs": [
    {
     "data": {
      "text/html": [
       "<div>\n",
       "<style scoped>\n",
       "    .dataframe tbody tr th:only-of-type {\n",
       "        vertical-align: middle;\n",
       "    }\n",
       "\n",
       "    .dataframe tbody tr th {\n",
       "        vertical-align: top;\n",
       "    }\n",
       "\n",
       "    .dataframe thead th {\n",
       "        text-align: right;\n",
       "    }\n",
       "</style>\n",
       "<table border=\"1\" class=\"dataframe\">\n",
       "  <thead>\n",
       "    <tr style=\"text-align: right;\">\n",
       "      <th></th>\n",
       "      <th>userId</th>\n",
       "      <th>movieId</th>\n",
       "      <th>rating</th>\n",
       "      <th>timestamp</th>\n",
       "    </tr>\n",
       "  </thead>\n",
       "  <tbody>\n",
       "    <tr>\n",
       "      <th>0</th>\n",
       "      <td>1</td>\n",
       "      <td>307</td>\n",
       "      <td>3.5</td>\n",
       "      <td>1256677221</td>\n",
       "    </tr>\n",
       "    <tr>\n",
       "      <th>1</th>\n",
       "      <td>1</td>\n",
       "      <td>481</td>\n",
       "      <td>3.5</td>\n",
       "      <td>1256677456</td>\n",
       "    </tr>\n",
       "    <tr>\n",
       "      <th>2</th>\n",
       "      <td>1</td>\n",
       "      <td>1091</td>\n",
       "      <td>1.5</td>\n",
       "      <td>1256677471</td>\n",
       "    </tr>\n",
       "  </tbody>\n",
       "</table>\n",
       "</div>"
      ],
      "text/plain": [
       "   userId  movieId  rating   timestamp\n",
       "0       1      307     3.5  1256677221\n",
       "1       1      481     3.5  1256677456\n",
       "2       1     1091     1.5  1256677471"
      ]
     },
     "execution_count": 5,
     "metadata": {},
     "output_type": "execute_result"
    }
   ],
   "source": [
    "ratings.head(3)"
   ]
  },
  {
   "cell_type": "code",
   "execution_count": 6,
   "metadata": {
    "scrolled": true
   },
   "outputs": [
    {
     "name": "stdout",
     "output_type": "stream",
     "text": [
      "<class 'pandas.core.frame.DataFrame'>\n",
      "RangeIndex: 27753444 entries, 0 to 27753443\n",
      "Data columns (total 4 columns):\n",
      "userId       int64\n",
      "movieId      int64\n",
      "rating       float64\n",
      "timestamp    int64\n",
      "dtypes: float64(1), int64(3)\n",
      "memory usage: 847.0 MB\n"
     ]
    }
   ],
   "source": [
    "ratings.info()"
   ]
  },
  {
   "cell_type": "markdown",
   "metadata": {},
   "source": [
    "## Data cleaning:\n",
    "\n",
    "We have 27 million ratings data for 58k movies, that is a lot of data. How clean is our dataset, will we end up using all the data? Here, I will focus on answering few key questions to filter our dataset to ensure the recommendation system I build is as accurate as possible. \n",
    "\n",
    "1. What is the number of unique users and movies\n",
    "2. What is the distribution of rating\n",
    "3. What is the number of rating each movie received\n",
    "4. What is the number of ratings given by each user\n"
   ]
  },
  {
   "cell_type": "markdown",
   "metadata": {},
   "source": [
    "**1. What is the number of unique users and movies?**"
   ]
  },
  {
   "cell_type": "code",
   "execution_count": 6,
   "metadata": {},
   "outputs": [
    {
     "name": "stdout",
     "output_type": "stream",
     "text": [
      "There are 283,228 unique users and 53,889 unique movies in this dataset\n"
     ]
    }
   ],
   "source": [
    "# Q1\n",
    "num_users = ratings.userId.nunique()\n",
    "num_movies = ratings.movieId.nunique()\n",
    "\n",
    "print('There are {:,} unique users and {:,} unique movies in this dataset'.format(num_users, num_movies))"
   ]
  },
  {
   "cell_type": "markdown",
   "metadata": {},
   "source": [
    "**2. Examine the rating distribution**"
   ]
  },
  {
   "cell_type": "code",
   "execution_count": 7,
   "metadata": {},
   "outputs": [
    {
     "data": {
      "text/html": [
       "<div>\n",
       "<style scoped>\n",
       "    .dataframe tbody tr th:only-of-type {\n",
       "        vertical-align: middle;\n",
       "    }\n",
       "\n",
       "    .dataframe tbody tr th {\n",
       "        vertical-align: top;\n",
       "    }\n",
       "\n",
       "    .dataframe thead th {\n",
       "        text-align: right;\n",
       "    }\n",
       "</style>\n",
       "<table border=\"1\" class=\"dataframe\">\n",
       "  <thead>\n",
       "    <tr style=\"text-align: right;\">\n",
       "      <th></th>\n",
       "      <th>count</th>\n",
       "    </tr>\n",
       "    <tr>\n",
       "      <th>rating</th>\n",
       "      <th></th>\n",
       "    </tr>\n",
       "  </thead>\n",
       "  <tbody>\n",
       "    <tr>\n",
       "      <th>0.5</th>\n",
       "      <td>442388</td>\n",
       "    </tr>\n",
       "    <tr>\n",
       "      <th>1.0</th>\n",
       "      <td>886233</td>\n",
       "    </tr>\n",
       "    <tr>\n",
       "      <th>1.5</th>\n",
       "      <td>441354</td>\n",
       "    </tr>\n",
       "    <tr>\n",
       "      <th>2.0</th>\n",
       "      <td>1850627</td>\n",
       "    </tr>\n",
       "    <tr>\n",
       "      <th>2.5</th>\n",
       "      <td>1373419</td>\n",
       "    </tr>\n",
       "    <tr>\n",
       "      <th>3.0</th>\n",
       "      <td>5515668</td>\n",
       "    </tr>\n",
       "    <tr>\n",
       "      <th>3.5</th>\n",
       "      <td>3404360</td>\n",
       "    </tr>\n",
       "    <tr>\n",
       "      <th>4.0</th>\n",
       "      <td>7394710</td>\n",
       "    </tr>\n",
       "    <tr>\n",
       "      <th>4.5</th>\n",
       "      <td>2373550</td>\n",
       "    </tr>\n",
       "    <tr>\n",
       "      <th>5.0</th>\n",
       "      <td>4071135</td>\n",
       "    </tr>\n",
       "  </tbody>\n",
       "</table>\n",
       "</div>"
      ],
      "text/plain": [
       "          count\n",
       "rating         \n",
       "0.5      442388\n",
       "1.0      886233\n",
       "1.5      441354\n",
       "2.0     1850627\n",
       "2.5     1373419\n",
       "3.0     5515668\n",
       "3.5     3404360\n",
       "4.0     7394710\n",
       "4.5     2373550\n",
       "5.0     4071135"
      ]
     },
     "execution_count": 7,
     "metadata": {},
     "output_type": "execute_result"
    }
   ],
   "source": [
    "# count of each rating.\n",
    "rating_count = pd.DataFrame(ratings.groupby('rating').size(), columns = ['count'])\n",
    "rating_count"
   ]
  },
  {
   "cell_type": "markdown",
   "metadata": {},
   "source": [
    "Above table does not include counts of No rating. Let's check to see how many movies did not get a rating."
   ]
  },
  {
   "cell_type": "code",
   "execution_count": 8,
   "metadata": {},
   "outputs": [
    {
     "name": "stdout",
     "output_type": "stream",
     "text": [
      "Amount of movies with no ratings: 15,235,120,248\n",
      "Total possible rating: 15,262,873,692\n"
     ]
    }
   ],
   "source": [
    "# total count = amount of all possible rating include no rating.\n",
    "totalcount = num_users * num_movies\n",
    "no_rating = totalcount - ratings.shape[0]\n",
    "\n",
    "print(\"Amount of movies with no ratings: {:,}\".format(no_rating))\n",
    "print(\"Total possible rating: {:,}\".format(totalcount))"
   ]
  },
  {
   "cell_type": "code",
   "execution_count": 9,
   "metadata": {},
   "outputs": [
    {
     "data": {
      "text/plain": [
       "<matplotlib.axes._subplots.AxesSubplot at 0x123bee470>"
      ]
     },
     "execution_count": 9,
     "metadata": {},
     "output_type": "execute_result"
    },
    {
     "data": {
      "image/png": "[encoded data removed]",
      "text/plain": [
       "<Figure size 432x288 with 1 Axes>"
      ]
     },
     "metadata": {},
     "output_type": "display_data"
    }
   ],
   "source": [
    "# Let's plot rating distribution\n",
    "\n",
    "rating_count['count'].plot(kind='bar')"
   ]
  },
  {
   "cell_type": "markdown",
   "metadata": {},
   "source": [
    "Most movies received a rating of 3 and 4, users seem to prefer to rate movies on whole number than half star scale."
   ]
  },
  {
   "cell_type": "markdown",
   "metadata": {},
   "source": [
    "**3. Plot rating frequency of all movies**"
   ]
  },
  {
   "cell_type": "code",
   "execution_count": 10,
   "metadata": {},
   "outputs": [
    {
     "data": {
      "text/html": [
       "<div>\n",
       "<style scoped>\n",
       "    .dataframe tbody tr th:only-of-type {\n",
       "        vertical-align: middle;\n",
       "    }\n",
       "\n",
       "    .dataframe tbody tr th {\n",
       "        vertical-align: top;\n",
       "    }\n",
       "\n",
       "    .dataframe thead th {\n",
       "        text-align: right;\n",
       "    }\n",
       "</style>\n",
       "<table border=\"1\" class=\"dataframe\">\n",
       "  <thead>\n",
       "    <tr style=\"text-align: right;\">\n",
       "      <th></th>\n",
       "      <th>count</th>\n",
       "    </tr>\n",
       "    <tr>\n",
       "      <th>movieId</th>\n",
       "      <th></th>\n",
       "    </tr>\n",
       "  </thead>\n",
       "  <tbody>\n",
       "    <tr>\n",
       "      <th>1</th>\n",
       "      <td>68469</td>\n",
       "    </tr>\n",
       "    <tr>\n",
       "      <th>2</th>\n",
       "      <td>27143</td>\n",
       "    </tr>\n",
       "    <tr>\n",
       "      <th>3</th>\n",
       "      <td>15585</td>\n",
       "    </tr>\n",
       "    <tr>\n",
       "      <th>4</th>\n",
       "      <td>2989</td>\n",
       "    </tr>\n",
       "    <tr>\n",
       "      <th>5</th>\n",
       "      <td>15474</td>\n",
       "    </tr>\n",
       "  </tbody>\n",
       "</table>\n",
       "</div>"
      ],
      "text/plain": [
       "         count\n",
       "movieId       \n",
       "1        68469\n",
       "2        27143\n",
       "3        15585\n",
       "4         2989\n",
       "5        15474"
      ]
     },
     "execution_count": 10,
     "metadata": {},
     "output_type": "execute_result"
    }
   ],
   "source": [
    "# Let's plot rating frequency of all movies.\n",
    "\n",
    "movie_count = pd.DataFrame(ratings.groupby('movieId').size(), columns = ['count'])\n",
    "movie_count.head()"
   ]
  },
  {
   "cell_type": "code",
   "execution_count": 11,
   "metadata": {},
   "outputs": [
    {
     "data": {
      "text/plain": [
       "Text(0, 0.5, 'number of ratings')"
      ]
     },
     "execution_count": 11,
     "metadata": {},
     "output_type": "execute_result"
    },
    {
     "data": {
      "image/png": "[encoded data removed]",
      "text/plain": [
       "<Figure size 864x576 with 1 Axes>"
      ]
     },
     "metadata": {},
     "output_type": "display_data"
    }
   ],
   "source": [
    "# plot rating frequency of all movies. \n",
    "\n",
    "ax = movie_count.sort_values('count', \n",
    "                   ascending=False).reset_index(drop=True).plot(\n",
    "         figsize = (12, 8),\n",
    "         title = 'Rating Frequency of all movies',\n",
    "         fontsize = 12\n",
    "     )\n",
    "ax.set_xlabel('movie Id')\n",
    "ax.set_ylabel('number of ratings')"
   ]
  },
  {
   "cell_type": "markdown",
   "metadata": {},
   "source": [
    "Distribution of ratings among movies show that only small fraction of the items are rated frequently. These are the popular items. Vast majority of items are rarely rated. This result in a highly right skewed distribution of ratings.\n",
    "\n",
    "**Let's plot the same distribution in log scale.**"
   ]
  },
  {
   "cell_type": "code",
   "execution_count": 12,
   "metadata": {},
   "outputs": [
    {
     "data": {
      "text/plain": [
       "Text(0, 0.5, 'number of ratings (log scale)')"
      ]
     },
     "execution_count": 12,
     "metadata": {},
     "output_type": "execute_result"
    },
    {
     "data": {
      "image/png": "[encoded data removed]",
      "text/plain": [
       "<Figure size 864x576 with 1 Axes>"
      ]
     },
     "metadata": {},
     "output_type": "display_data"
    }
   ],
   "source": [
    "# plot rating frequency of all movies [log scale]\n",
    "\n",
    "ax = movie_count.sort_values('count', \n",
    "                   ascending=False).reset_index(drop=True).plot(\n",
    "         figsize = (12, 8),\n",
    "         title = 'Rating Frequency of all movies (log scale)' ,\n",
    "         fontsize = 12,\n",
    "         logy = True\n",
    "     )\n",
    "ax.set_xlabel('movie Id')\n",
    "ax.set_ylabel('number of ratings (log scale)')"
   ]
  },
  {
   "cell_type": "markdown",
   "metadata": {},
   "source": [
    "10,000 out of 53,889 movies are rated more than 100 times, 20,000 out of 53,889 movies are rated a little more than 10 times, majority rest are much less known.\n",
    "\n",
    "To remove noisy pattern, I will focus on ratings for only popular movies for now, movies that have high number of ratings.\n",
    "\n",
    "Let's look at the quantile of the distribution."
   ]
  },
  {
   "cell_type": "code",
   "execution_count": 13,
   "metadata": {},
   "outputs": [
    {
     "data": {
      "text/plain": [
       "1.00    97999.0\n",
       "0.95     1855.0\n",
       "0.90      531.0\n",
       "0.85      205.0\n",
       "0.80       91.0\n",
       "0.75       48.0\n",
       "0.70       28.0\n",
       "0.65       18.0\n",
       "0.60       12.0\n",
       "0.55        9.0\n",
       "Name: count, dtype: float64"
      ]
     },
     "execution_count": 13,
     "metadata": {},
     "output_type": "execute_result"
    }
   ],
   "source": [
    "movie_count['count'].quantile(np.arange(1, 0.5, -0.05))"
   ]
  },
  {
   "cell_type": "markdown",
   "metadata": {},
   "source": [
    "Highest rated movie has received 97,999 ratings, 5% of the movies have 1855+ ratings, 20% of the movies have 90+ ratings. \n",
    "\n",
    "For now, I will stick with movies that have more than 50 ratings, top 25% of the movies."
   ]
  },
  {
   "cell_type": "code",
   "execution_count": 14,
   "metadata": {},
   "outputs": [
    {
     "name": "stdout",
     "output_type": "stream",
     "text": [
      "Shape of original rating data:  (27753444, 4)\n",
      "Shape of rating data after dropping unpopular movies:  (27430748, 4)\n"
     ]
    }
   ],
   "source": [
    "# filter data\n",
    "threshold = 50\n",
    "popular_movies = list(set(movie_count.query('count >= @threshold').index))\n",
    "\n",
    "ratingfilter = ratings[ratings.movieId.isin(popular_movies)]\n",
    "print(\"Shape of original rating data: \", ratings.shape)\n",
    "print(\"Shape of rating data after dropping unpopular movies: \", ratingfilter.shape)"
   ]
  },
  {
   "cell_type": "markdown",
   "metadata": {},
   "source": [
    "After dropping unpopular movies in the dataset, we still have a large dataset, let's look at user data to further reduce size of the dataset.\n",
    "\n",
    "**4. Number of ratings given by each user:**"
   ]
  },
  {
   "cell_type": "code",
   "execution_count": 15,
   "metadata": {},
   "outputs": [
    {
     "data": {
      "text/html": [
       "<div>\n",
       "<style scoped>\n",
       "    .dataframe tbody tr th:only-of-type {\n",
       "        vertical-align: middle;\n",
       "    }\n",
       "\n",
       "    .dataframe tbody tr th {\n",
       "        vertical-align: top;\n",
       "    }\n",
       "\n",
       "    .dataframe thead th {\n",
       "        text-align: right;\n",
       "    }\n",
       "</style>\n",
       "<table border=\"1\" class=\"dataframe\">\n",
       "  <thead>\n",
       "    <tr style=\"text-align: right;\">\n",
       "      <th></th>\n",
       "      <th>count</th>\n",
       "    </tr>\n",
       "    <tr>\n",
       "      <th>userId</th>\n",
       "      <th></th>\n",
       "    </tr>\n",
       "  </thead>\n",
       "  <tbody>\n",
       "    <tr>\n",
       "      <th>1</th>\n",
       "      <td>16</td>\n",
       "    </tr>\n",
       "    <tr>\n",
       "      <th>2</th>\n",
       "      <td>15</td>\n",
       "    </tr>\n",
       "    <tr>\n",
       "      <th>3</th>\n",
       "      <td>11</td>\n",
       "    </tr>\n",
       "    <tr>\n",
       "      <th>4</th>\n",
       "      <td>736</td>\n",
       "    </tr>\n",
       "    <tr>\n",
       "      <th>5</th>\n",
       "      <td>72</td>\n",
       "    </tr>\n",
       "  </tbody>\n",
       "</table>\n",
       "</div>"
      ],
      "text/plain": [
       "        count\n",
       "userId       \n",
       "1          16\n",
       "2          15\n",
       "3          11\n",
       "4         736\n",
       "5          72"
      ]
     },
     "execution_count": 15,
     "metadata": {},
     "output_type": "execute_result"
    }
   ],
   "source": [
    "# number of rating given by every user.\n",
    "\n",
    "user_count = pd.DataFrame(ratingfilter.groupby('userId').size(), columns = ['count'])\n",
    "user_count.head()"
   ]
  },
  {
   "cell_type": "code",
   "execution_count": 16,
   "metadata": {},
   "outputs": [
    {
     "data": {
      "text/plain": [
       "Text(0, 0.5, 'number of ratings')"
      ]
     },
     "execution_count": 16,
     "metadata": {},
     "output_type": "execute_result"
    },
    {
     "data": {
      "image/png": "[encoded data removed]",
      "text/plain": [
       "<Figure size 864x576 with 1 Axes>"
      ]
     },
     "metadata": {},
     "output_type": "display_data"
    }
   ],
   "source": [
    "# plot rating frequency of all users.\n",
    "\n",
    "ax = user_count.sort_values('count', \n",
    "                   ascending=False).reset_index(drop=True).plot(\n",
    "         figsize = (12, 8),\n",
    "         title = 'Rating Frequency of all users',\n",
    "         fontsize = 12\n",
    "     )\n",
    "ax.set_xlabel('user Id')\n",
    "ax.set_ylabel('number of ratings')"
   ]
  },
  {
   "cell_type": "code",
   "execution_count": 17,
   "metadata": {},
   "outputs": [
    {
     "data": {
      "text/plain": [
       "1.00    9384.0\n",
       "0.95     403.0\n",
       "0.90     239.0\n",
       "0.85     164.0\n",
       "0.80     121.0\n",
       "0.75      94.0\n",
       "0.70      73.0\n",
       "0.65      58.0\n",
       "0.60      47.0\n",
       "0.55      37.0\n",
       "Name: count, dtype: float64"
      ]
     },
     "execution_count": 17,
     "metadata": {},
     "output_type": "execute_result"
    }
   ],
   "source": [
    "user_count['count'].quantile(np.arange(1, 0.5, -0.05))"
   ]
  },
  {
   "cell_type": "markdown",
   "metadata": {},
   "source": [
    "Number of ratings given by each users is similar to number of ratings each movie received, both are heavily right skewed. \n",
    "\n",
    "The most active user has rated 9384 movies, 5% of users have rated 403+ movies, 20% of users have rated more than 120+ movies.\n",
    "\n",
    "For now, I will stick with users that have rated more than 47 movies, top 40% of the users."
   ]
  },
  {
   "cell_type": "code",
   "execution_count": 18,
   "metadata": {
    "scrolled": true
   },
   "outputs": [
    {
     "name": "stdout",
     "output_type": "stream",
     "text": [
      "Shape of original rating data:  (27753444, 4)\n",
      "Shape of rating data after dropping unpopular movies and inactive users:  (24368204, 4)\n"
     ]
    }
   ],
   "source": [
    "threshold = 47 \n",
    "active_users = list(set(user_count.query('count >= @threshold').index))\n",
    "\n",
    "ratingfilter = ratingfilter[ratingfilter.userId.isin(active_users)]\n",
    "print(\"Shape of original rating data: \", ratings.shape)\n",
    "print(\"Shape of rating data after dropping unpopular movies and inactive users: \", ratingfilter.shape)"
   ]
  },
  {
   "cell_type": "code",
   "execution_count": 19,
   "metadata": {},
   "outputs": [
    {
     "name": "stdout",
     "output_type": "stream",
     "text": [
      "There are 113,427 unique users and 13,360 unique movies in this dataset\n"
     ]
    }
   ],
   "source": [
    "num_users = ratingfilter.userId.nunique()\n",
    "num_movies = ratingfilter.movieId.nunique()\n",
    "\n",
    "print('There are {:,} unique users and {:,} unique movies in this dataset'.format(num_users, num_movies))"
   ]
  },
  {
   "cell_type": "markdown",
   "metadata": {},
   "source": [
    "## Data storytelling:\n"
   ]
  },
  {
   "cell_type": "markdown",
   "metadata": {},
   "source": [
    "After filtering popular movies and most active users, we are left with 113,427 unique users and 13,360 unique movies.\n"
   ]
  },
  {
   "cell_type": "markdown",
   "metadata": {},
   "source": [
    "Let's now focus on **timestamp** variable, convert timestamp. I will sort the data by timestamp and break the timestamp column into year, month and day."
   ]
  },
  {
   "cell_type": "code",
   "execution_count": 20,
   "metadata": {},
   "outputs": [
    {
     "data": {
      "text/html": [
       "<div>\n",
       "<style scoped>\n",
       "    .dataframe tbody tr th:only-of-type {\n",
       "        vertical-align: middle;\n",
       "    }\n",
       "\n",
       "    .dataframe tbody tr th {\n",
       "        vertical-align: top;\n",
       "    }\n",
       "\n",
       "    .dataframe thead th {\n",
       "        text-align: right;\n",
       "    }\n",
       "</style>\n",
       "<table border=\"1\" class=\"dataframe\">\n",
       "  <thead>\n",
       "    <tr style=\"text-align: right;\">\n",
       "      <th></th>\n",
       "      <th>userId</th>\n",
       "      <th>movieId</th>\n",
       "      <th>rating</th>\n",
       "      <th>timestamp</th>\n",
       "      <th>year</th>\n",
       "      <th>month</th>\n",
       "      <th>day</th>\n",
       "    </tr>\n",
       "  </thead>\n",
       "  <tbody>\n",
       "    <tr>\n",
       "      <th>5510411</th>\n",
       "      <td>56769</td>\n",
       "      <td>1176</td>\n",
       "      <td>4.0</td>\n",
       "      <td>1995-01-09 03:46:44</td>\n",
       "      <td>1995</td>\n",
       "      <td>1</td>\n",
       "      <td>9</td>\n",
       "    </tr>\n",
       "    <tr>\n",
       "      <th>23237833</th>\n",
       "      <td>237556</td>\n",
       "      <td>47</td>\n",
       "      <td>5.0</td>\n",
       "      <td>1995-01-09 03:46:49</td>\n",
       "      <td>1995</td>\n",
       "      <td>1</td>\n",
       "      <td>9</td>\n",
       "    </tr>\n",
       "    <tr>\n",
       "      <th>23237827</th>\n",
       "      <td>237556</td>\n",
       "      <td>21</td>\n",
       "      <td>3.0</td>\n",
       "      <td>1995-01-09 03:46:49</td>\n",
       "      <td>1995</td>\n",
       "      <td>1</td>\n",
       "      <td>9</td>\n",
       "    </tr>\n",
       "    <tr>\n",
       "      <th>23237876</th>\n",
       "      <td>237556</td>\n",
       "      <td>1079</td>\n",
       "      <td>3.0</td>\n",
       "      <td>1995-01-09 03:46:49</td>\n",
       "      <td>1995</td>\n",
       "      <td>1</td>\n",
       "      <td>9</td>\n",
       "    </tr>\n",
       "    <tr>\n",
       "      <th>2619749</th>\n",
       "      <td>26999</td>\n",
       "      <td>2</td>\n",
       "      <td>4.0</td>\n",
       "      <td>1996-01-28 16:00:00</td>\n",
       "      <td>1996</td>\n",
       "      <td>1</td>\n",
       "      <td>28</td>\n",
       "    </tr>\n",
       "  </tbody>\n",
       "</table>\n",
       "</div>"
      ],
      "text/plain": [
       "          userId  movieId  rating           timestamp  year  month  day\n",
       "5510411    56769     1176     4.0 1995-01-09 03:46:44  1995      1    9\n",
       "23237833  237556       47     5.0 1995-01-09 03:46:49  1995      1    9\n",
       "23237827  237556       21     3.0 1995-01-09 03:46:49  1995      1    9\n",
       "23237876  237556     1079     3.0 1995-01-09 03:46:49  1995      1    9\n",
       "2619749    26999        2     4.0 1996-01-28 16:00:00  1996      1   28"
      ]
     },
     "execution_count": 20,
     "metadata": {},
     "output_type": "execute_result"
    }
   ],
   "source": [
    "ratingfilter['timestamp'] = ratingfilter['timestamp'].apply(datetime.fromtimestamp)\n",
    "ratingfilter['year'] = ratingfilter['timestamp'].dt.year\n",
    "ratingfilter['month'] = ratingfilter['timestamp'].dt.month\n",
    "ratingfilter['day'] = ratingfilter['timestamp'].dt.day\n",
    "\n",
    "ratingfilter = ratingfilter.sort_values('timestamp')\n",
    "ratingfilter.head(5)"
   ]
  },
  {
   "cell_type": "code",
   "execution_count": 21,
   "metadata": {
    "scrolled": true
   },
   "outputs": [
    {
     "data": {
      "text/html": [
       "<div>\n",
       "<style scoped>\n",
       "    .dataframe tbody tr th:only-of-type {\n",
       "        vertical-align: middle;\n",
       "    }\n",
       "\n",
       "    .dataframe tbody tr th {\n",
       "        vertical-align: top;\n",
       "    }\n",
       "\n",
       "    .dataframe thead th {\n",
       "        text-align: right;\n",
       "    }\n",
       "</style>\n",
       "<table border=\"1\" class=\"dataframe\">\n",
       "  <thead>\n",
       "    <tr style=\"text-align: right;\">\n",
       "      <th></th>\n",
       "      <th>userId</th>\n",
       "      <th>movieId</th>\n",
       "      <th>rating</th>\n",
       "      <th>timestamp</th>\n",
       "      <th>year</th>\n",
       "      <th>month</th>\n",
       "      <th>day</th>\n",
       "    </tr>\n",
       "  </thead>\n",
       "  <tbody>\n",
       "    <tr>\n",
       "      <th>27486420</th>\n",
       "      <td>280481</td>\n",
       "      <td>176101</td>\n",
       "      <td>3.5</td>\n",
       "      <td>2018-09-25 23:58:30</td>\n",
       "      <td>2018</td>\n",
       "      <td>9</td>\n",
       "      <td>25</td>\n",
       "    </tr>\n",
       "    <tr>\n",
       "      <th>27486116</th>\n",
       "      <td>280481</td>\n",
       "      <td>2294</td>\n",
       "      <td>2.0</td>\n",
       "      <td>2018-09-25 23:58:41</td>\n",
       "      <td>2018</td>\n",
       "      <td>9</td>\n",
       "      <td>25</td>\n",
       "    </tr>\n",
       "    <tr>\n",
       "      <th>27486118</th>\n",
       "      <td>280481</td>\n",
       "      <td>2355</td>\n",
       "      <td>3.0</td>\n",
       "      <td>2018-09-25 23:58:43</td>\n",
       "      <td>2018</td>\n",
       "      <td>9</td>\n",
       "      <td>25</td>\n",
       "    </tr>\n",
       "    <tr>\n",
       "      <th>27486035</th>\n",
       "      <td>280481</td>\n",
       "      <td>494</td>\n",
       "      <td>3.0</td>\n",
       "      <td>2018-09-25 23:58:47</td>\n",
       "      <td>2018</td>\n",
       "      <td>9</td>\n",
       "      <td>25</td>\n",
       "    </tr>\n",
       "    <tr>\n",
       "      <th>8060104</th>\n",
       "      <td>82922</td>\n",
       "      <td>53519</td>\n",
       "      <td>4.0</td>\n",
       "      <td>2018-09-25 23:58:50</td>\n",
       "      <td>2018</td>\n",
       "      <td>9</td>\n",
       "      <td>25</td>\n",
       "    </tr>\n",
       "  </tbody>\n",
       "</table>\n",
       "</div>"
      ],
      "text/plain": [
       "          userId  movieId  rating           timestamp  year  month  day\n",
       "27486420  280481   176101     3.5 2018-09-25 23:58:30  2018      9   25\n",
       "27486116  280481     2294     2.0 2018-09-25 23:58:41  2018      9   25\n",
       "27486118  280481     2355     3.0 2018-09-25 23:58:43  2018      9   25\n",
       "27486035  280481      494     3.0 2018-09-25 23:58:47  2018      9   25\n",
       "8060104    82922    53519     4.0 2018-09-25 23:58:50  2018      9   25"
      ]
     },
     "execution_count": 21,
     "metadata": {},
     "output_type": "execute_result"
    }
   ],
   "source": [
    "ratingfilter.tail(5)"
   ]
  },
  {
   "cell_type": "markdown",
   "metadata": {},
   "source": [
    "From our filtered rating dataset, the earliest movie was rated in January of 1995, and the most recent is rated September of 2018.\n",
    "\n",
    "I would like to understand specifically at how rating distribution change over time by examining the following questions:\n",
    "\n",
    "1. How does rating distribution change over time?\n",
    "2. Does the rating distribution differ before and after half score are allowed?\n",
    "3. How many ratings were submitted per year, month?\n",
    "4. How consistent are the average ratings over time?"
   ]
  },
  {
   "cell_type": "markdown",
   "metadata": {},
   "source": [
    "**1. How does rating distribution change over time**"
   ]
  },
  {
   "cell_type": "code",
   "execution_count": 22,
   "metadata": {},
   "outputs": [
    {
     "data": {
      "text/html": [
       "<div>\n",
       "<style scoped>\n",
       "    .dataframe tbody tr th:only-of-type {\n",
       "        vertical-align: middle;\n",
       "    }\n",
       "\n",
       "    .dataframe tbody tr th {\n",
       "        vertical-align: top;\n",
       "    }\n",
       "\n",
       "    .dataframe thead th {\n",
       "        text-align: right;\n",
       "    }\n",
       "</style>\n",
       "<table border=\"1\" class=\"dataframe\">\n",
       "  <thead>\n",
       "    <tr style=\"text-align: right;\">\n",
       "      <th>year</th>\n",
       "      <th>1995</th>\n",
       "      <th>1996</th>\n",
       "      <th>1997</th>\n",
       "      <th>1998</th>\n",
       "      <th>1999</th>\n",
       "      <th>2000</th>\n",
       "      <th>2001</th>\n",
       "      <th>2002</th>\n",
       "      <th>2003</th>\n",
       "      <th>2004</th>\n",
       "      <th>...</th>\n",
       "      <th>2009</th>\n",
       "      <th>2010</th>\n",
       "      <th>2011</th>\n",
       "      <th>2012</th>\n",
       "      <th>2013</th>\n",
       "      <th>2014</th>\n",
       "      <th>2015</th>\n",
       "      <th>2016</th>\n",
       "      <th>2017</th>\n",
       "      <th>2018</th>\n",
       "    </tr>\n",
       "    <tr>\n",
       "      <th>rating</th>\n",
       "      <th></th>\n",
       "      <th></th>\n",
       "      <th></th>\n",
       "      <th></th>\n",
       "      <th></th>\n",
       "      <th></th>\n",
       "      <th></th>\n",
       "      <th></th>\n",
       "      <th></th>\n",
       "      <th></th>\n",
       "      <th></th>\n",
       "      <th></th>\n",
       "      <th></th>\n",
       "      <th></th>\n",
       "      <th></th>\n",
       "      <th></th>\n",
       "      <th></th>\n",
       "      <th></th>\n",
       "      <th></th>\n",
       "      <th></th>\n",
       "      <th></th>\n",
       "    </tr>\n",
       "  </thead>\n",
       "  <tbody>\n",
       "    <tr>\n",
       "      <th>5.0</th>\n",
       "      <td>0.25</td>\n",
       "      <td>0.183318</td>\n",
       "      <td>0.206030</td>\n",
       "      <td>0.204745</td>\n",
       "      <td>0.236079</td>\n",
       "      <td>0.221129</td>\n",
       "      <td>0.204259</td>\n",
       "      <td>0.187617</td>\n",
       "      <td>0.121702</td>\n",
       "      <td>0.078603</td>\n",
       "      <td>...</td>\n",
       "      <td>0.095765</td>\n",
       "      <td>0.100780</td>\n",
       "      <td>0.103379</td>\n",
       "      <td>0.114445</td>\n",
       "      <td>0.122554</td>\n",
       "      <td>0.123520</td>\n",
       "      <td>0.134513</td>\n",
       "      <td>0.134815</td>\n",
       "      <td>0.134389</td>\n",
       "      <td>0.138496</td>\n",
       "    </tr>\n",
       "    <tr>\n",
       "      <th>4.5</th>\n",
       "      <td>NaN</td>\n",
       "      <td>NaN</td>\n",
       "      <td>NaN</td>\n",
       "      <td>NaN</td>\n",
       "      <td>NaN</td>\n",
       "      <td>NaN</td>\n",
       "      <td>NaN</td>\n",
       "      <td>NaN</td>\n",
       "      <td>0.086759</td>\n",
       "      <td>0.121926</td>\n",
       "      <td>...</td>\n",
       "      <td>0.129183</td>\n",
       "      <td>0.134507</td>\n",
       "      <td>0.136401</td>\n",
       "      <td>0.145671</td>\n",
       "      <td>0.146747</td>\n",
       "      <td>0.137459</td>\n",
       "      <td>0.113743</td>\n",
       "      <td>0.112729</td>\n",
       "      <td>0.116729</td>\n",
       "      <td>0.117359</td>\n",
       "    </tr>\n",
       "    <tr>\n",
       "      <th>4.0</th>\n",
       "      <td>0.25</td>\n",
       "      <td>0.289910</td>\n",
       "      <td>0.311941</td>\n",
       "      <td>0.334849</td>\n",
       "      <td>0.351171</td>\n",
       "      <td>0.348904</td>\n",
       "      <td>0.347126</td>\n",
       "      <td>0.345542</td>\n",
       "      <td>0.270497</td>\n",
       "      <td>0.234781</td>\n",
       "      <td>...</td>\n",
       "      <td>0.242897</td>\n",
       "      <td>0.245480</td>\n",
       "      <td>0.248332</td>\n",
       "      <td>0.253495</td>\n",
       "      <td>0.256819</td>\n",
       "      <td>0.252068</td>\n",
       "      <td>0.239241</td>\n",
       "      <td>0.234545</td>\n",
       "      <td>0.234340</td>\n",
       "      <td>0.231389</td>\n",
       "    </tr>\n",
       "    <tr>\n",
       "      <th>3.5</th>\n",
       "      <td>NaN</td>\n",
       "      <td>NaN</td>\n",
       "      <td>NaN</td>\n",
       "      <td>NaN</td>\n",
       "      <td>NaN</td>\n",
       "      <td>NaN</td>\n",
       "      <td>NaN</td>\n",
       "      <td>NaN</td>\n",
       "      <td>0.125078</td>\n",
       "      <td>0.191664</td>\n",
       "      <td>...</td>\n",
       "      <td>0.188927</td>\n",
       "      <td>0.188333</td>\n",
       "      <td>0.191220</td>\n",
       "      <td>0.182329</td>\n",
       "      <td>0.184469</td>\n",
       "      <td>0.180074</td>\n",
       "      <td>0.169661</td>\n",
       "      <td>0.169267</td>\n",
       "      <td>0.172421</td>\n",
       "      <td>0.170218</td>\n",
       "    </tr>\n",
       "    <tr>\n",
       "      <th>3.0</th>\n",
       "      <td>0.50</td>\n",
       "      <td>0.423626</td>\n",
       "      <td>0.380564</td>\n",
       "      <td>0.280501</td>\n",
       "      <td>0.253080</td>\n",
       "      <td>0.262842</td>\n",
       "      <td>0.274944</td>\n",
       "      <td>0.281202</td>\n",
       "      <td>0.199122</td>\n",
       "      <td>0.160044</td>\n",
       "      <td>...</td>\n",
       "      <td>0.154084</td>\n",
       "      <td>0.149738</td>\n",
       "      <td>0.148687</td>\n",
       "      <td>0.143143</td>\n",
       "      <td>0.141240</td>\n",
       "      <td>0.142902</td>\n",
       "      <td>0.154599</td>\n",
       "      <td>0.153681</td>\n",
       "      <td>0.152426</td>\n",
       "      <td>0.153194</td>\n",
       "    </tr>\n",
       "    <tr>\n",
       "      <th>2.5</th>\n",
       "      <td>NaN</td>\n",
       "      <td>NaN</td>\n",
       "      <td>NaN</td>\n",
       "      <td>NaN</td>\n",
       "      <td>NaN</td>\n",
       "      <td>NaN</td>\n",
       "      <td>NaN</td>\n",
       "      <td>NaN</td>\n",
       "      <td>0.052339</td>\n",
       "      <td>0.081776</td>\n",
       "      <td>...</td>\n",
       "      <td>0.074291</td>\n",
       "      <td>0.071810</td>\n",
       "      <td>0.070474</td>\n",
       "      <td>0.065906</td>\n",
       "      <td>0.059322</td>\n",
       "      <td>0.063138</td>\n",
       "      <td>0.065345</td>\n",
       "      <td>0.068639</td>\n",
       "      <td>0.068825</td>\n",
       "      <td>0.069264</td>\n",
       "    </tr>\n",
       "    <tr>\n",
       "      <th>2.0</th>\n",
       "      <td>NaN</td>\n",
       "      <td>0.063206</td>\n",
       "      <td>0.063788</td>\n",
       "      <td>0.116280</td>\n",
       "      <td>0.105219</td>\n",
       "      <td>0.109077</td>\n",
       "      <td>0.114566</td>\n",
       "      <td>0.125940</td>\n",
       "      <td>0.079438</td>\n",
       "      <td>0.059132</td>\n",
       "      <td>...</td>\n",
       "      <td>0.051830</td>\n",
       "      <td>0.049031</td>\n",
       "      <td>0.046746</td>\n",
       "      <td>0.044909</td>\n",
       "      <td>0.041321</td>\n",
       "      <td>0.045105</td>\n",
       "      <td>0.052595</td>\n",
       "      <td>0.052256</td>\n",
       "      <td>0.051208</td>\n",
       "      <td>0.051453</td>\n",
       "    </tr>\n",
       "    <tr>\n",
       "      <th>1.5</th>\n",
       "      <td>NaN</td>\n",
       "      <td>NaN</td>\n",
       "      <td>NaN</td>\n",
       "      <td>NaN</td>\n",
       "      <td>NaN</td>\n",
       "      <td>NaN</td>\n",
       "      <td>NaN</td>\n",
       "      <td>NaN</td>\n",
       "      <td>0.016075</td>\n",
       "      <td>0.026320</td>\n",
       "      <td>...</td>\n",
       "      <td>0.024196</td>\n",
       "      <td>0.021477</td>\n",
       "      <td>0.020307</td>\n",
       "      <td>0.017753</td>\n",
       "      <td>0.016543</td>\n",
       "      <td>0.017933</td>\n",
       "      <td>0.020775</td>\n",
       "      <td>0.021452</td>\n",
       "      <td>0.021741</td>\n",
       "      <td>0.021792</td>\n",
       "    </tr>\n",
       "    <tr>\n",
       "      <th>1.0</th>\n",
       "      <td>NaN</td>\n",
       "      <td>0.039940</td>\n",
       "      <td>0.037677</td>\n",
       "      <td>0.063624</td>\n",
       "      <td>0.054452</td>\n",
       "      <td>0.058048</td>\n",
       "      <td>0.059104</td>\n",
       "      <td>0.059698</td>\n",
       "      <td>0.035056</td>\n",
       "      <td>0.023451</td>\n",
       "      <td>...</td>\n",
       "      <td>0.019613</td>\n",
       "      <td>0.018675</td>\n",
       "      <td>0.017815</td>\n",
       "      <td>0.016485</td>\n",
       "      <td>0.016288</td>\n",
       "      <td>0.018275</td>\n",
       "      <td>0.023383</td>\n",
       "      <td>0.024494</td>\n",
       "      <td>0.024026</td>\n",
       "      <td>0.023133</td>\n",
       "    </tr>\n",
       "    <tr>\n",
       "      <th>0.5</th>\n",
       "      <td>NaN</td>\n",
       "      <td>NaN</td>\n",
       "      <td>NaN</td>\n",
       "      <td>NaN</td>\n",
       "      <td>NaN</td>\n",
       "      <td>NaN</td>\n",
       "      <td>NaN</td>\n",
       "      <td>NaN</td>\n",
       "      <td>0.013935</td>\n",
       "      <td>0.022304</td>\n",
       "      <td>...</td>\n",
       "      <td>0.019214</td>\n",
       "      <td>0.020169</td>\n",
       "      <td>0.016640</td>\n",
       "      <td>0.015863</td>\n",
       "      <td>0.014697</td>\n",
       "      <td>0.019526</td>\n",
       "      <td>0.026145</td>\n",
       "      <td>0.028122</td>\n",
       "      <td>0.023895</td>\n",
       "      <td>0.023701</td>\n",
       "    </tr>\n",
       "  </tbody>\n",
       "</table>\n",
       "<p>10 rows × 24 columns</p>\n",
       "</div>"
      ],
      "text/plain": [
       "year    1995      1996      1997      1998      1999      2000      2001  \\\n",
       "rating                                                                     \n",
       "5.0     0.25  0.183318  0.206030  0.204745  0.236079  0.221129  0.204259   \n",
       "4.5      NaN       NaN       NaN       NaN       NaN       NaN       NaN   \n",
       "4.0     0.25  0.289910  0.311941  0.334849  0.351171  0.348904  0.347126   \n",
       "3.5      NaN       NaN       NaN       NaN       NaN       NaN       NaN   \n",
       "3.0     0.50  0.423626  0.380564  0.280501  0.253080  0.262842  0.274944   \n",
       "2.5      NaN       NaN       NaN       NaN       NaN       NaN       NaN   \n",
       "2.0      NaN  0.063206  0.063788  0.116280  0.105219  0.109077  0.114566   \n",
       "1.5      NaN       NaN       NaN       NaN       NaN       NaN       NaN   \n",
       "1.0      NaN  0.039940  0.037677  0.063624  0.054452  0.058048  0.059104   \n",
       "0.5      NaN       NaN       NaN       NaN       NaN       NaN       NaN   \n",
       "\n",
       "year        2002      2003      2004    ...         2009      2010      2011  \\\n",
       "rating                                  ...                                    \n",
       "5.0     0.187617  0.121702  0.078603    ...     0.095765  0.100780  0.103379   \n",
       "4.5          NaN  0.086759  0.121926    ...     0.129183  0.134507  0.136401   \n",
       "4.0     0.345542  0.270497  0.234781    ...     0.242897  0.245480  0.248332   \n",
       "3.5          NaN  0.125078  0.191664    ...     0.188927  0.188333  0.191220   \n",
       "3.0     0.281202  0.199122  0.160044    ...     0.154084  0.149738  0.148687   \n",
       "2.5          NaN  0.052339  0.081776    ...     0.074291  0.071810  0.070474   \n",
       "2.0     0.125940  0.079438  0.059132    ...     0.051830  0.049031  0.046746   \n",
       "1.5          NaN  0.016075  0.026320    ...     0.024196  0.021477  0.020307   \n",
       "1.0     0.059698  0.035056  0.023451    ...     0.019613  0.018675  0.017815   \n",
       "0.5          NaN  0.013935  0.022304    ...     0.019214  0.020169  0.016640   \n",
       "\n",
       "year        2012      2013      2014      2015      2016      2017      2018  \n",
       "rating                                                                        \n",
       "5.0     0.114445  0.122554  0.123520  0.134513  0.134815  0.134389  0.138496  \n",
       "4.5     0.145671  0.146747  0.137459  0.113743  0.112729  0.116729  0.117359  \n",
       "4.0     0.253495  0.256819  0.252068  0.239241  0.234545  0.234340  0.231389  \n",
       "3.5     0.182329  0.184469  0.180074  0.169661  0.169267  0.172421  0.170218  \n",
       "3.0     0.143143  0.141240  0.142902  0.154599  0.153681  0.152426  0.153194  \n",
       "2.5     0.065906  0.059322  0.063138  0.065345  0.068639  0.068825  0.069264  \n",
       "2.0     0.044909  0.041321  0.045105  0.052595  0.052256  0.051208  0.051453  \n",
       "1.5     0.017753  0.016543  0.017933  0.020775  0.021452  0.021741  0.021792  \n",
       "1.0     0.016485  0.016288  0.018275  0.023383  0.024494  0.024026  0.023133  \n",
       "0.5     0.015863  0.014697  0.019526  0.026145  0.028122  0.023895  0.023701  \n",
       "\n",
       "[10 rows x 24 columns]"
      ]
     },
     "execution_count": 22,
     "metadata": {},
     "output_type": "execute_result"
    }
   ],
   "source": [
    "ratings_pivot = pd.pivot_table(ratingfilter, values='timestamp', index='rating', columns='year', aggfunc='count')\n",
    "ratings_pivot = ratings_pivot.apply(lambda x: x/np.sum(x), axis=0)\n",
    "ratings_pivot = ratings_pivot.sort_index(ascending=False)\n",
    "ratings_pivot"
   ]
  },
  {
   "cell_type": "code",
   "execution_count": 23,
   "metadata": {},
   "outputs": [
    {
     "data": {
      "image/png": "[encoded data removed]",
      "text/plain": [
       "<Figure size 1080x360 with 2 Axes>"
      ]
     },
     "metadata": {},
     "output_type": "display_data"
    }
   ],
   "source": [
    "fig, ax = plt.subplots(figsize=(15, 5))\n",
    "sns.heatmap(ratings_pivot, ax=ax)\n",
    "ax.set_title('Rating Density by Year\\n(Sum over each year is 1)')\n",
    "plt.show()"
   ]
  },
  {
   "cell_type": "markdown",
   "metadata": {},
   "source": [
    "Looks like half-star scale were only allowed starting mid 2002, this explains why there were less half star rating based on the rating distribution."
   ]
  },
  {
   "cell_type": "markdown",
   "metadata": {},
   "source": [
    "**2. How does the rating distribution differ before and after half star scores are allowed**\n",
    "\n",
    "Let's find the very first half-star rating, and then check the distribution prior to that timestamp and after that timestamp. The first half star rating was given on February 18, 2003, for **catch me if you can**."
   ]
  },
  {
   "cell_type": "code",
   "execution_count": 24,
   "metadata": {},
   "outputs": [
    {
     "data": {
      "text/html": [
       "<div>\n",
       "<style scoped>\n",
       "    .dataframe tbody tr th:only-of-type {\n",
       "        vertical-align: middle;\n",
       "    }\n",
       "\n",
       "    .dataframe tbody tr th {\n",
       "        vertical-align: top;\n",
       "    }\n",
       "\n",
       "    .dataframe thead th {\n",
       "        text-align: right;\n",
       "    }\n",
       "</style>\n",
       "<table border=\"1\" class=\"dataframe\">\n",
       "  <thead>\n",
       "    <tr style=\"text-align: right;\">\n",
       "      <th></th>\n",
       "      <th>userId</th>\n",
       "      <th>movieId</th>\n",
       "      <th>rating</th>\n",
       "      <th>timestamp</th>\n",
       "      <th>year</th>\n",
       "      <th>month</th>\n",
       "      <th>day</th>\n",
       "    </tr>\n",
       "  </thead>\n",
       "  <tbody>\n",
       "    <tr>\n",
       "      <th>8436419</th>\n",
       "      <td>86936</td>\n",
       "      <td>5989</td>\n",
       "      <td>3.5</td>\n",
       "      <td>2003-02-18 13:34:27</td>\n",
       "      <td>2003</td>\n",
       "      <td>2</td>\n",
       "      <td>18</td>\n",
       "    </tr>\n",
       "  </tbody>\n",
       "</table>\n",
       "</div>"
      ],
      "text/plain": [
       "         userId  movieId  rating           timestamp  year  month  day\n",
       "8436419   86936     5989     3.5 2003-02-18 13:34:27  2003      2   18"
      ]
     },
     "execution_count": 24,
     "metadata": {},
     "output_type": "execute_result"
    }
   ],
   "source": [
    "first_half_star = ratingfilter[ratingfilter['rating'].isin([0.5, 1.5, 2.5, 3.5, 4.5])].iloc[0]['timestamp']\n",
    "ratingfilter[ratingfilter['timestamp'] == first_half_star]"
   ]
  },
  {
   "cell_type": "code",
   "execution_count": 26,
   "metadata": {},
   "outputs": [
    {
     "data": {
      "text/html": [
       "<div>\n",
       "<style scoped>\n",
       "    .dataframe tbody tr th:only-of-type {\n",
       "        vertical-align: middle;\n",
       "    }\n",
       "\n",
       "    .dataframe tbody tr th {\n",
       "        vertical-align: top;\n",
       "    }\n",
       "\n",
       "    .dataframe thead th {\n",
       "        text-align: right;\n",
       "    }\n",
       "</style>\n",
       "<table border=\"1\" class=\"dataframe\">\n",
       "  <thead>\n",
       "    <tr style=\"text-align: right;\">\n",
       "      <th></th>\n",
       "      <th>movieId</th>\n",
       "      <th>title</th>\n",
       "      <th>genres</th>\n",
       "    </tr>\n",
       "  </thead>\n",
       "  <tbody>\n",
       "    <tr>\n",
       "      <th>5891</th>\n",
       "      <td>5989</td>\n",
       "      <td>Catch Me If You Can (2002)</td>\n",
       "      <td>Crime|Drama</td>\n",
       "    </tr>\n",
       "  </tbody>\n",
       "</table>\n",
       "</div>"
      ],
      "text/plain": [
       "      movieId                       title       genres\n",
       "5891     5989  Catch Me If You Can (2002)  Crime|Drama"
      ]
     },
     "execution_count": 26,
     "metadata": {},
     "output_type": "execute_result"
    }
   ],
   "source": [
    "movies[movies['movieId'] == 5989]"
   ]
  },
  {
   "cell_type": "code",
   "execution_count": 25,
   "metadata": {},
   "outputs": [
    {
     "name": "stderr",
     "output_type": "stream",
     "text": [
      "/Users/meiyanghuang/anaconda3/lib/python3.6/site-packages/seaborn/categorical.py:1460: FutureWarning: remove_na is deprecated and is a private function. Do not use.\n",
      "  stat_data = remove_na(group_data)\n"
     ]
    },
    {
     "data": {
      "image/png": "[encoded data removed]",
      "text/plain": [
       "<Figure size 432x288 with 1 Axes>"
      ]
     },
     "metadata": {},
     "output_type": "display_data"
    },
    {
     "data": {
      "image/png": "[encoded data removed]",
      "text/plain": [
       "<Figure size 432x288 with 1 Axes>"
      ]
     },
     "metadata": {},
     "output_type": "display_data"
    }
   ],
   "source": [
    "sns.countplot(x='rating', data=ratingfilter[ratingfilter['timestamp']<first_half_star])\n",
    "plt.title('Rating Distribution before 2/18/2003')\n",
    "plt.tight_layout()\n",
    "plt.show()\n",
    "sns.countplot(x='rating', data=ratingfilter[ratingfilter['timestamp']>=first_half_star])\n",
    "plt.title('Rating Distribution after 2/18/2003')\n",
    "plt.tight_layout()\n",
    "plt.show()"
   ]
  },
  {
   "cell_type": "markdown",
   "metadata": {},
   "source": [
    "Overall, both distribution is similar, they are both left-skewed, with 3 and 4 stars being most prominent. "
   ]
  },
  {
   "cell_type": "markdown",
   "metadata": {},
   "source": [
    "**3a. How many ratings were submitted per year?**"
   ]
  },
  {
   "cell_type": "code",
   "execution_count": 28,
   "metadata": {},
   "outputs": [
    {
     "data": {
      "image/png": "[encoded data removed]",
      "text/plain": [
       "<Figure size 432x288 with 1 Axes>"
      ]
     },
     "metadata": {},
     "output_type": "display_data"
    }
   ],
   "source": [
    "year_count = ratingfilter['year'].value_counts().sort_index()\n",
    "plt.plot(year_count.index, year_count, 'o-')\n",
    "plt.xlabel('Year')\n",
    "plt.ylabel('Ratings')\n",
    "plt.title('Number of ratings per year')\n",
    "plt.show()"
   ]
  },
  {
   "cell_type": "markdown",
   "metadata": {},
   "source": [
    "**3b. How many ratings were submitted per month?**\n"
   ]
  },
  {
   "cell_type": "code",
   "execution_count": 29,
   "metadata": {},
   "outputs": [
    {
     "data": {
      "text/html": [
       "<div>\n",
       "<style scoped>\n",
       "    .dataframe tbody tr th:only-of-type {\n",
       "        vertical-align: middle;\n",
       "    }\n",
       "\n",
       "    .dataframe tbody tr th {\n",
       "        vertical-align: top;\n",
       "    }\n",
       "\n",
       "    .dataframe thead th {\n",
       "        text-align: right;\n",
       "    }\n",
       "</style>\n",
       "<table border=\"1\" class=\"dataframe\">\n",
       "  <thead>\n",
       "    <tr style=\"text-align: right;\">\n",
       "      <th></th>\n",
       "      <th>year</th>\n",
       "      <th>month</th>\n",
       "      <th>number of ratings</th>\n",
       "    </tr>\n",
       "    <tr>\n",
       "      <th>date</th>\n",
       "      <th></th>\n",
       "      <th></th>\n",
       "      <th></th>\n",
       "    </tr>\n",
       "  </thead>\n",
       "  <tbody>\n",
       "    <tr>\n",
       "      <th>1995-01-01</th>\n",
       "      <td>1995</td>\n",
       "      <td>1</td>\n",
       "      <td>4</td>\n",
       "    </tr>\n",
       "    <tr>\n",
       "      <th>1996-01-01</th>\n",
       "      <td>1996</td>\n",
       "      <td>1</td>\n",
       "      <td>42</td>\n",
       "    </tr>\n",
       "    <tr>\n",
       "      <th>1996-02-01</th>\n",
       "      <td>1996</td>\n",
       "      <td>2</td>\n",
       "      <td>868</td>\n",
       "    </tr>\n",
       "    <tr>\n",
       "      <th>1996-03-01</th>\n",
       "      <td>1996</td>\n",
       "      <td>3</td>\n",
       "      <td>5034</td>\n",
       "    </tr>\n",
       "    <tr>\n",
       "      <th>1996-04-01</th>\n",
       "      <td>1996</td>\n",
       "      <td>4</td>\n",
       "      <td>31192</td>\n",
       "    </tr>\n",
       "  </tbody>\n",
       "</table>\n",
       "</div>"
      ],
      "text/plain": [
       "            year month  number of ratings\n",
       "date                                     \n",
       "1995-01-01  1995     1                  4\n",
       "1996-01-01  1996     1                 42\n",
       "1996-02-01  1996     2                868\n",
       "1996-03-01  1996     3               5034\n",
       "1996-04-01  1996     4              31192"
      ]
     },
     "execution_count": 29,
     "metadata": {},
     "output_type": "execute_result"
    }
   ],
   "source": [
    "month_count = ratingfilter[['year', 'month', 'rating']].groupby(['year', 'month']).count()\n",
    "month_count = month_count.rename(index = str, columns = {'rating': 'number of ratings'})\n",
    "month_count = month_count.reset_index()\n",
    "month_count['date'] = month_count[['year', 'month']].apply(\n",
    "    lambda x: datetime(year = int(x[0]), month = int(x[1]), day = 1), axis = 1)\n",
    "month_count = month_count.set_index('date', drop = True)\n",
    "month_count.head(5)"
   ]
  },
  {
   "cell_type": "code",
   "execution_count": 30,
   "metadata": {},
   "outputs": [
    {
     "data": {
      "image/png": "[encoded data removed]",
      "text/plain": [
       "<Figure size 432x288 with 1 Axes>"
      ]
     },
     "metadata": {},
     "output_type": "display_data"
    }
   ],
   "source": [
    "month_count['number of ratings'].plot()\n",
    "plt.xlabel('Date')\n",
    "plt.ylabel('Ratings')\n",
    "plt.title('Number of ratings per year and month')\n",
    "plt.show()"
   ]
  },
  {
   "cell_type": "markdown",
   "metadata": {},
   "source": [
    "Number of ratings has not been consistent over the years. There were large changes from 1996 to 2005, and then a gradual decrease after until around early 2015, then ratings started increase again after 2015.\n",
    "\n",
    "So, number of ratings given has not been consistent over the years, what about the average ratings?\n",
    "\n",
    "**4. How consistent are the average ratings over the years?**"
   ]
  },
  {
   "cell_type": "code",
   "execution_count": 31,
   "metadata": {},
   "outputs": [
    {
     "data": {
      "image/png": "[encoded data removed]",
      "text/plain": [
       "<Figure size 432x288 with 1 Axes>"
      ]
     },
     "metadata": {},
     "output_type": "display_data"
    }
   ],
   "source": [
    "average_rating_year = ratingfilter.groupby('year')['rating'].agg(['mean', 'std']).reset_index()\n",
    "year, mean, sd = average_rating_year['year'], average_rating_year['mean'], average_rating_year['std']\n",
    "l, = plt.plot(year, mean, 'o-', label='Mean Rating')\n",
    "plt.fill_between(year, mean-sd, mean+sd, alpha=0.3, color=l.get_color())\n",
    "plt.ylim([0, 5])\n",
    "plt.xlabel('Year')\n",
    "plt.ylabel('Rating')\n",
    "plt.title(r'Average rating $\\pm$ sd over the years')\n",
    "plt.tight_layout()\n",
    "plt.show()"
   ]
  },
  {
   "cell_type": "markdown",
   "metadata": {},
   "source": [
    "Average ratings over the years are fairly consistent, around 3.5."
   ]
  },
  {
   "cell_type": "markdown",
   "metadata": {},
   "source": [
    "Lastly, I want to see which genre received the highest number of ratings."
   ]
  },
  {
   "cell_type": "code",
   "execution_count": 32,
   "metadata": {
    "scrolled": false
   },
   "outputs": [
    {
     "data": {
      "text/plain": [
       "Drama                 24144\n",
       "Comedy                15956\n",
       "Thriller               8216\n",
       "Romance                7412\n",
       "Action                 7130\n",
       "Horror                 5555\n",
       "Documentary            5118\n",
       "Crime                  5105\n",
       "(no genres listed)     4266\n",
       "Adventure              4067\n",
       "Sci-Fi                 3444\n",
       "Mystery                2773\n",
       "Children               2749\n",
       "Animation              2663\n",
       "Fantasy                2637\n",
       "War                    1820\n",
       "Western                1378\n",
       "Musical                1113\n",
       "Film-Noir               364\n",
       "IMAX                    197\n",
       "dtype: int64"
      ]
     },
     "execution_count": 32,
     "metadata": {},
     "output_type": "execute_result"
    }
   ],
   "source": [
    "moviegenre = pd.DataFrame(movies.genres.str.split('|').tolist()).stack()\n",
    "moviegenre.value_counts()"
   ]
  },
  {
   "cell_type": "code",
   "execution_count": 33,
   "metadata": {},
   "outputs": [
    {
     "data": {
      "text/html": [
       "<div>\n",
       "<style scoped>\n",
       "    .dataframe tbody tr th:only-of-type {\n",
       "        vertical-align: middle;\n",
       "    }\n",
       "\n",
       "    .dataframe tbody tr th {\n",
       "        vertical-align: top;\n",
       "    }\n",
       "\n",
       "    .dataframe thead th {\n",
       "        text-align: right;\n",
       "    }\n",
       "</style>\n",
       "<table border=\"1\" class=\"dataframe\">\n",
       "  <thead>\n",
       "    <tr style=\"text-align: right;\">\n",
       "      <th></th>\n",
       "      <th>userId</th>\n",
       "      <th>movieId</th>\n",
       "      <th>rating</th>\n",
       "      <th>timestamp</th>\n",
       "      <th>year</th>\n",
       "      <th>month</th>\n",
       "      <th>day</th>\n",
       "      <th>title</th>\n",
       "      <th>genres</th>\n",
       "    </tr>\n",
       "  </thead>\n",
       "  <tbody>\n",
       "    <tr>\n",
       "      <th>0</th>\n",
       "      <td>56769</td>\n",
       "      <td>1176</td>\n",
       "      <td>4.0</td>\n",
       "      <td>1995-01-09 03:46:44</td>\n",
       "      <td>1995</td>\n",
       "      <td>1</td>\n",
       "      <td>9</td>\n",
       "      <td>Double Life of Veronique, The (Double Vie de V...</td>\n",
       "      <td>Drama|Fantasy|Romance</td>\n",
       "    </tr>\n",
       "    <tr>\n",
       "      <th>1</th>\n",
       "      <td>51073</td>\n",
       "      <td>1176</td>\n",
       "      <td>1.0</td>\n",
       "      <td>1996-10-23 02:01:56</td>\n",
       "      <td>1996</td>\n",
       "      <td>10</td>\n",
       "      <td>23</td>\n",
       "      <td>Double Life of Veronique, The (Double Vie de V...</td>\n",
       "      <td>Drama|Fantasy|Romance</td>\n",
       "    </tr>\n",
       "    <tr>\n",
       "      <th>2</th>\n",
       "      <td>281674</td>\n",
       "      <td>1176</td>\n",
       "      <td>3.0</td>\n",
       "      <td>1996-10-23 05:56:28</td>\n",
       "      <td>1996</td>\n",
       "      <td>10</td>\n",
       "      <td>23</td>\n",
       "      <td>Double Life of Veronique, The (Double Vie de V...</td>\n",
       "      <td>Drama|Fantasy|Romance</td>\n",
       "    </tr>\n",
       "    <tr>\n",
       "      <th>3</th>\n",
       "      <td>273749</td>\n",
       "      <td>1176</td>\n",
       "      <td>2.0</td>\n",
       "      <td>1996-10-26 00:09:34</td>\n",
       "      <td>1996</td>\n",
       "      <td>10</td>\n",
       "      <td>26</td>\n",
       "      <td>Double Life of Veronique, The (Double Vie de V...</td>\n",
       "      <td>Drama|Fantasy|Romance</td>\n",
       "    </tr>\n",
       "    <tr>\n",
       "      <th>4</th>\n",
       "      <td>282742</td>\n",
       "      <td>1176</td>\n",
       "      <td>4.0</td>\n",
       "      <td>1996-10-26 03:53:55</td>\n",
       "      <td>1996</td>\n",
       "      <td>10</td>\n",
       "      <td>26</td>\n",
       "      <td>Double Life of Veronique, The (Double Vie de V...</td>\n",
       "      <td>Drama|Fantasy|Romance</td>\n",
       "    </tr>\n",
       "  </tbody>\n",
       "</table>\n",
       "</div>"
      ],
      "text/plain": [
       "   userId  movieId  rating           timestamp  year  month  day  \\\n",
       "0   56769     1176     4.0 1995-01-09 03:46:44  1995      1    9   \n",
       "1   51073     1176     1.0 1996-10-23 02:01:56  1996     10   23   \n",
       "2  281674     1176     3.0 1996-10-23 05:56:28  1996     10   23   \n",
       "3  273749     1176     2.0 1996-10-26 00:09:34  1996     10   26   \n",
       "4  282742     1176     4.0 1996-10-26 03:53:55  1996     10   26   \n",
       "\n",
       "                                               title                 genres  \n",
       "0  Double Life of Veronique, The (Double Vie de V...  Drama|Fantasy|Romance  \n",
       "1  Double Life of Veronique, The (Double Vie de V...  Drama|Fantasy|Romance  \n",
       "2  Double Life of Veronique, The (Double Vie de V...  Drama|Fantasy|Romance  \n",
       "3  Double Life of Veronique, The (Double Vie de V...  Drama|Fantasy|Romance  \n",
       "4  Double Life of Veronique, The (Double Vie de V...  Drama|Fantasy|Romance  "
      ]
     },
     "execution_count": 33,
     "metadata": {},
     "output_type": "execute_result"
    }
   ],
   "source": [
    "df = pd.merge(ratingfilter, movies, on = 'movieId')\n",
    "df.head()"
   ]
  },
  {
   "cell_type": "code",
   "execution_count": 34,
   "metadata": {},
   "outputs": [
    {
     "data": {
      "text/plain": [
       "title\n",
       "Planet Earth II (2016)                     4.494681\n",
       "Planet Earth (2006)                        4.455123\n",
       "Shawshank Redemption, The (1994)           4.408164\n",
       "Band of Brothers (2001)                    4.398528\n",
       "The Godfather Trilogy: 1972-1990 (1992)    4.353012\n",
       "Name: rating, dtype: float64"
      ]
     },
     "execution_count": 34,
     "metadata": {},
     "output_type": "execute_result"
    }
   ],
   "source": [
    "df.groupby('title')['rating'].mean().sort_values(ascending=False).head()"
   ]
  },
  {
   "cell_type": "code",
   "execution_count": 35,
   "metadata": {},
   "outputs": [
    {
     "data": {
      "text/plain": [
       "title\n",
       "Forrest Gump (1994)                 70865\n",
       "Pulp Fiction (1994)                 68787\n",
       "Shawshank Redemption, The (1994)    66586\n",
       "Silence of the Lambs, The (1991)    64403\n",
       "Matrix, The (1999)                  64378\n",
       "Name: rating, dtype: int64"
      ]
     },
     "execution_count": 35,
     "metadata": {},
     "output_type": "execute_result"
    }
   ],
   "source": [
    "df.groupby('title')['rating'].count().sort_values(ascending=False).head()"
   ]
  },
  {
   "cell_type": "code",
   "execution_count": 36,
   "metadata": {
    "scrolled": true
   },
   "outputs": [
    {
     "data": {
      "text/html": [
       "<div>\n",
       "<style scoped>\n",
       "    .dataframe tbody tr th:only-of-type {\n",
       "        vertical-align: middle;\n",
       "    }\n",
       "\n",
       "    .dataframe tbody tr th {\n",
       "        vertical-align: top;\n",
       "    }\n",
       "\n",
       "    .dataframe thead th {\n",
       "        text-align: right;\n",
       "    }\n",
       "</style>\n",
       "<table border=\"1\" class=\"dataframe\">\n",
       "  <thead>\n",
       "    <tr style=\"text-align: right;\">\n",
       "      <th></th>\n",
       "      <th>rating</th>\n",
       "      <th>rating_counts</th>\n",
       "    </tr>\n",
       "    <tr>\n",
       "      <th>title</th>\n",
       "      <th></th>\n",
       "      <th></th>\n",
       "    </tr>\n",
       "  </thead>\n",
       "  <tbody>\n",
       "    <tr>\n",
       "      <th>\"Great Performances\" Cats (1998)</th>\n",
       "      <td>2.920000</td>\n",
       "      <td>125</td>\n",
       "    </tr>\n",
       "    <tr>\n",
       "      <th>$5 a Day (2008)</th>\n",
       "      <td>2.775862</td>\n",
       "      <td>29</td>\n",
       "    </tr>\n",
       "    <tr>\n",
       "      <th>$9.99 (2008)</th>\n",
       "      <td>3.017857</td>\n",
       "      <td>56</td>\n",
       "    </tr>\n",
       "    <tr>\n",
       "      <th>'71 (2014)</th>\n",
       "      <td>3.708333</td>\n",
       "      <td>312</td>\n",
       "    </tr>\n",
       "    <tr>\n",
       "      <th>'Hellboy': The Seeds of Creation (2004)</th>\n",
       "      <td>3.089744</td>\n",
       "      <td>78</td>\n",
       "    </tr>\n",
       "  </tbody>\n",
       "</table>\n",
       "</div>"
      ],
      "text/plain": [
       "                                           rating  rating_counts\n",
       "title                                                           \n",
       "\"Great Performances\" Cats (1998)         2.920000            125\n",
       "$5 a Day (2008)                          2.775862             29\n",
       "$9.99 (2008)                             3.017857             56\n",
       "'71 (2014)                               3.708333            312\n",
       "'Hellboy': The Seeds of Creation (2004)  3.089744             78"
      ]
     },
     "execution_count": 36,
     "metadata": {},
     "output_type": "execute_result"
    }
   ],
   "source": [
    "avgrating = pd.DataFrame(df.groupby('title')['rating'].mean())\n",
    "\n",
    "# add number of rating for a movie to rating_mean_count dataframe\n",
    "avgrating['rating_counts'] = pd.DataFrame(df.groupby('title')['rating'].count())\n",
    "avgrating.head()"
   ]
  },
  {
   "cell_type": "code",
   "execution_count": 37,
   "metadata": {},
   "outputs": [
    {
     "data": {
      "text/html": [
       "<div>\n",
       "<style scoped>\n",
       "    .dataframe tbody tr th:only-of-type {\n",
       "        vertical-align: middle;\n",
       "    }\n",
       "\n",
       "    .dataframe tbody tr th {\n",
       "        vertical-align: top;\n",
       "    }\n",
       "\n",
       "    .dataframe thead th {\n",
       "        text-align: right;\n",
       "    }\n",
       "</style>\n",
       "<table border=\"1\" class=\"dataframe\">\n",
       "  <thead>\n",
       "    <tr style=\"text-align: right;\">\n",
       "      <th></th>\n",
       "      <th>rating</th>\n",
       "      <th>rating_counts</th>\n",
       "    </tr>\n",
       "    <tr>\n",
       "      <th>title</th>\n",
       "      <th></th>\n",
       "      <th></th>\n",
       "    </tr>\n",
       "  </thead>\n",
       "  <tbody>\n",
       "    <tr>\n",
       "      <th>Forrest Gump (1994)</th>\n",
       "      <td>4.016510</td>\n",
       "      <td>70865</td>\n",
       "    </tr>\n",
       "    <tr>\n",
       "      <th>Pulp Fiction (1994)</th>\n",
       "      <td>4.197864</td>\n",
       "      <td>68787</td>\n",
       "    </tr>\n",
       "    <tr>\n",
       "      <th>Shawshank Redemption, The (1994)</th>\n",
       "      <td>4.408164</td>\n",
       "      <td>66586</td>\n",
       "    </tr>\n",
       "    <tr>\n",
       "      <th>Silence of the Lambs, The (1991)</th>\n",
       "      <td>4.143891</td>\n",
       "      <td>64403</td>\n",
       "    </tr>\n",
       "    <tr>\n",
       "      <th>Matrix, The (1999)</th>\n",
       "      <td>4.150416</td>\n",
       "      <td>64378</td>\n",
       "    </tr>\n",
       "    <tr>\n",
       "      <th>Star Wars: Episode IV - A New Hope (1977)</th>\n",
       "      <td>4.127666</td>\n",
       "      <td>60811</td>\n",
       "    </tr>\n",
       "    <tr>\n",
       "      <th>Jurassic Park (1993)</th>\n",
       "      <td>3.661799</td>\n",
       "      <td>58826</td>\n",
       "    </tr>\n",
       "    <tr>\n",
       "      <th>Star Wars: Episode V - The Empire Strikes Back (1980)</th>\n",
       "      <td>4.153716</td>\n",
       "      <td>54064</td>\n",
       "    </tr>\n",
       "    <tr>\n",
       "      <th>Braveheart (1995)</th>\n",
       "      <td>3.974623</td>\n",
       "      <td>53867</td>\n",
       "    </tr>\n",
       "    <tr>\n",
       "      <th>Terminator 2: Judgment Day (1991)</th>\n",
       "      <td>3.936216</td>\n",
       "      <td>53822</td>\n",
       "    </tr>\n",
       "  </tbody>\n",
       "</table>\n",
       "</div>"
      ],
      "text/plain": [
       "                                                      rating  rating_counts\n",
       "title                                                                      \n",
       "Forrest Gump (1994)                                 4.016510          70865\n",
       "Pulp Fiction (1994)                                 4.197864          68787\n",
       "Shawshank Redemption, The (1994)                    4.408164          66586\n",
       "Silence of the Lambs, The (1991)                    4.143891          64403\n",
       "Matrix, The (1999)                                  4.150416          64378\n",
       "Star Wars: Episode IV - A New Hope (1977)           4.127666          60811\n",
       "Jurassic Park (1993)                                3.661799          58826\n",
       "Star Wars: Episode V - The Empire Strikes Back ...  4.153716          54064\n",
       "Braveheart (1995)                                   3.974623          53867\n",
       "Terminator 2: Judgment Day (1991)                   3.936216          53822"
      ]
     },
     "execution_count": 37,
     "metadata": {},
     "output_type": "execute_result"
    }
   ],
   "source": [
    "avgrating = avgrating.sort_values(['rating_counts', 'rating'], ascending=False)\n",
    "avgrating.head(10)"
   ]
  },
  {
   "cell_type": "markdown",
   "metadata": {},
   "source": [
    "Movies with higher number of rating usually have high average rating as well since a good movie is normally well-known and a well-known movie is watched by large number of people, let's see if this is also the case for this dataset. \n",
    "\n",
    "Let's plot average rating against number of ratings."
   ]
  },
  {
   "cell_type": "code",
   "execution_count": 38,
   "metadata": {},
   "outputs": [
    {
     "name": "stderr",
     "output_type": "stream",
     "text": [
      "/Users/meiyanghuang/anaconda3/lib/python3.6/site-packages/matplotlib/axes/_axes.py:6521: MatplotlibDeprecationWarning: \n",
      "The 'normed' kwarg was deprecated in Matplotlib 2.1 and will be removed in 3.1. Use 'density' instead.\n",
      "  alternative=\"'density'\", removal=\"3.1\")\n"
     ]
    },
    {
     "data": {
      "text/plain": [
       "<seaborn.axisgrid.JointGrid at 0x122114eb8>"
      ]
     },
     "execution_count": 38,
     "metadata": {},
     "output_type": "execute_result"
    },
    {
     "data": {
      "image/png": "[encoded data removed]",
      "text/plain": [
       "<Figure size 432x432 with 3 Axes>"
      ]
     },
     "metadata": {},
     "output_type": "display_data"
    }
   ],
   "source": [
    "sns.jointplot(x= 'rating', y='rating_counts', data= avgrating, alpha=0.4)"
   ]
  },
  {
   "cell_type": "code",
   "execution_count": 39,
   "metadata": {},
   "outputs": [
    {
     "data": {
      "text/plain": [
       "(0.20182623954174536, 8.548675041901814e-123)"
      ]
     },
     "execution_count": 39,
     "metadata": {},
     "output_type": "execute_result"
    }
   ],
   "source": [
    "from scipy.stats.stats import pearsonr\n",
    "pearsonr(avgrating['rating'], avgrating['rating_counts'])"
   ]
  },
  {
   "cell_type": "code",
   "execution_count": 40,
   "metadata": {},
   "outputs": [
    {
     "data": {
      "text/plain": [
       "0.20182623954174553"
      ]
     },
     "execution_count": 40,
     "metadata": {},
     "output_type": "execute_result"
    }
   ],
   "source": [
    "np.corrcoef(avgrating['rating'], avgrating['rating_counts'])[0,1]"
   ]
  },
  {
   "cell_type": "markdown",
   "metadata": {},
   "source": [
    "The plot shows that movies with higher average rating actually have more number of ratings, compare with movies that have lower average ratings.\n",
    "\n",
    "Let's now find similarity between movies.\n",
    "\n",
    "I will use correlation between ratings of a movie as similarity metric. To find the correlation between rating of a movie, let's create a matrix where each column is a movie name and each row contains the rating assigned by a specific user to that movie. "
   ]
  },
  {
   "cell_type": "code",
   "execution_count": null,
   "metadata": {},
   "outputs": [],
   "source": [
    "user_movie_rating = df.pivot_table(index = 'userId',\n",
    "                                  columns = 'movieId',\n",
    "                                  values = 'rating').fillna(0)\n",
    "user_movie_rating.head()"
   ]
  },
  {
   "cell_type": "markdown",
   "metadata": {},
   "source": [
    "Each column contains all the user rating for a particular movie. Let's find all the user rating for the movie 'Pulp Fiction' and find movies similar to it. "
   ]
  },
  {
   "cell_type": "code",
   "execution_count": 48,
   "metadata": {},
   "outputs": [
    {
     "data": {
      "text/plain": [
       "userId\n",
       "4     5.0\n",
       "5     5.0\n",
       "10    NaN\n",
       "14    4.0\n",
       "15    5.0\n",
       "Name: Pulp Fiction (1994), dtype: float64"
      ]
     },
     "execution_count": 48,
     "metadata": {},
     "output_type": "execute_result"
    }
   ],
   "source": [
    "pulp_fiction_rating = user_movie_rating['Pulp Fiction (1994)']\n",
    "pulp_fiction_rating.head()"
   ]
  },
  {
   "cell_type": "markdown",
   "metadata": {},
   "source": [
    "Let's retrieve all movies that are similar to 'Pulp Fiction (1994)."
   ]
  },
  {
   "cell_type": "code",
   "execution_count": 49,
   "metadata": {},
   "outputs": [
    {
     "data": {
      "text/html": [
       "<div>\n",
       "<style scoped>\n",
       "    .dataframe tbody tr th:only-of-type {\n",
       "        vertical-align: middle;\n",
       "    }\n",
       "\n",
       "    .dataframe tbody tr th {\n",
       "        vertical-align: top;\n",
       "    }\n",
       "\n",
       "    .dataframe thead th {\n",
       "        text-align: right;\n",
       "    }\n",
       "</style>\n",
       "<table border=\"1\" class=\"dataframe\">\n",
       "  <thead>\n",
       "    <tr style=\"text-align: right;\">\n",
       "      <th></th>\n",
       "      <th>Correlation</th>\n",
       "    </tr>\n",
       "    <tr>\n",
       "      <th>title</th>\n",
       "      <th></th>\n",
       "    </tr>\n",
       "  </thead>\n",
       "  <tbody>\n",
       "    <tr>\n",
       "      <th>\"Great Performances\" Cats (1998)</th>\n",
       "      <td>0.200654</td>\n",
       "    </tr>\n",
       "    <tr>\n",
       "      <th>$5 a Day (2008)</th>\n",
       "      <td>0.394174</td>\n",
       "    </tr>\n",
       "    <tr>\n",
       "      <th>$9.99 (2008)</th>\n",
       "      <td>0.388384</td>\n",
       "    </tr>\n",
       "    <tr>\n",
       "      <th>'71 (2014)</th>\n",
       "      <td>0.221580</td>\n",
       "    </tr>\n",
       "    <tr>\n",
       "      <th>'Hellboy': The Seeds of Creation (2004)</th>\n",
       "      <td>0.109314</td>\n",
       "    </tr>\n",
       "  </tbody>\n",
       "</table>\n",
       "</div>"
      ],
      "text/plain": [
       "                                         Correlation\n",
       "title                                               \n",
       "\"Great Performances\" Cats (1998)            0.200654\n",
       "$5 a Day (2008)                             0.394174\n",
       "$9.99 (2008)                                0.388384\n",
       "'71 (2014)                                  0.221580\n",
       "'Hellboy': The Seeds of Creation (2004)     0.109314"
      ]
     },
     "execution_count": 49,
     "metadata": {},
     "output_type": "execute_result"
    }
   ],
   "source": [
    "movies_like_pf = user_movie_rating.corrwith(pulp_fiction_rating)\n",
    "\n",
    "corr_pf = pd.DataFrame(movies_like_pf, columns = ['Correlation'])\n",
    "corr_pf.dropna(inplace=True)\n",
    "corr_pf.head()"
   ]
  },
  {
   "cell_type": "code",
   "execution_count": 50,
   "metadata": {},
   "outputs": [
    {
     "data": {
      "text/html": [
       "<div>\n",
       "<style scoped>\n",
       "    .dataframe tbody tr th:only-of-type {\n",
       "        vertical-align: middle;\n",
       "    }\n",
       "\n",
       "    .dataframe tbody tr th {\n",
       "        vertical-align: top;\n",
       "    }\n",
       "\n",
       "    .dataframe thead th {\n",
       "        text-align: right;\n",
       "    }\n",
       "</style>\n",
       "<table border=\"1\" class=\"dataframe\">\n",
       "  <thead>\n",
       "    <tr style=\"text-align: right;\">\n",
       "      <th></th>\n",
       "      <th>Correlation</th>\n",
       "    </tr>\n",
       "    <tr>\n",
       "      <th>title</th>\n",
       "      <th></th>\n",
       "    </tr>\n",
       "  </thead>\n",
       "  <tbody>\n",
       "    <tr>\n",
       "      <th>Pulp Fiction (1994)</th>\n",
       "      <td>1.000000</td>\n",
       "    </tr>\n",
       "    <tr>\n",
       "      <th>Tanu Weds Manu (2011)</th>\n",
       "      <td>0.730543</td>\n",
       "    </tr>\n",
       "    <tr>\n",
       "      <th>Eighth Grade (2018)</th>\n",
       "      <td>0.691153</td>\n",
       "    </tr>\n",
       "    <tr>\n",
       "      <th>Doodlebug (1997)</th>\n",
       "      <td>0.649161</td>\n",
       "    </tr>\n",
       "    <tr>\n",
       "      <th>Eddie Izzard: Circle (2002)</th>\n",
       "      <td>0.610451</td>\n",
       "    </tr>\n",
       "    <tr>\n",
       "      <th>Mystery of the Third Planet, The (Tayna tretey planety) (1981)</th>\n",
       "      <td>0.606059</td>\n",
       "    </tr>\n",
       "    <tr>\n",
       "      <th>Thieves, The (Dodookdeul) (2012)</th>\n",
       "      <td>0.603123</td>\n",
       "    </tr>\n",
       "    <tr>\n",
       "      <th>Winter in Prostokvashino (1984)</th>\n",
       "      <td>0.595125</td>\n",
       "    </tr>\n",
       "    <tr>\n",
       "      <th>Karlson Returns (1970)</th>\n",
       "      <td>0.594863</td>\n",
       "    </tr>\n",
       "    <tr>\n",
       "      <th>Crips and Bloods: Made in America (2008)</th>\n",
       "      <td>0.588454</td>\n",
       "    </tr>\n",
       "  </tbody>\n",
       "</table>\n",
       "</div>"
      ],
      "text/plain": [
       "                                                    Correlation\n",
       "title                                                          \n",
       "Pulp Fiction (1994)                                    1.000000\n",
       "Tanu Weds Manu (2011)                                  0.730543\n",
       "Eighth Grade (2018)                                    0.691153\n",
       "Doodlebug (1997)                                       0.649161\n",
       "Eddie Izzard: Circle (2002)                            0.610451\n",
       "Mystery of the Third Planet, The (Tayna tretey ...     0.606059\n",
       "Thieves, The (Dodookdeul) (2012)                       0.603123\n",
       "Winter in Prostokvashino (1984)                        0.595125\n",
       "Karlson Returns (1970)                                 0.594863\n",
       "Crips and Bloods: Made in America (2008)               0.588454"
      ]
     },
     "execution_count": 50,
     "metadata": {},
     "output_type": "execute_result"
    }
   ],
   "source": [
    "corr_pf.sort_values('Correlation', ascending=False).head(10)"
   ]
  },
  {
   "cell_type": "code",
   "execution_count": 51,
   "metadata": {},
   "outputs": [
    {
     "data": {
      "text/html": [
       "<div>\n",
       "<style scoped>\n",
       "    .dataframe tbody tr th:only-of-type {\n",
       "        vertical-align: middle;\n",
       "    }\n",
       "\n",
       "    .dataframe tbody tr th {\n",
       "        vertical-align: top;\n",
       "    }\n",
       "\n",
       "    .dataframe thead th {\n",
       "        text-align: right;\n",
       "    }\n",
       "</style>\n",
       "<table border=\"1\" class=\"dataframe\">\n",
       "  <thead>\n",
       "    <tr style=\"text-align: right;\">\n",
       "      <th></th>\n",
       "      <th>Correlation</th>\n",
       "      <th>rating_counts</th>\n",
       "    </tr>\n",
       "    <tr>\n",
       "      <th>title</th>\n",
       "      <th></th>\n",
       "      <th></th>\n",
       "    </tr>\n",
       "  </thead>\n",
       "  <tbody>\n",
       "    <tr>\n",
       "      <th>\"Great Performances\" Cats (1998)</th>\n",
       "      <td>0.200654</td>\n",
       "      <td>125</td>\n",
       "    </tr>\n",
       "    <tr>\n",
       "      <th>$5 a Day (2008)</th>\n",
       "      <td>0.394174</td>\n",
       "      <td>29</td>\n",
       "    </tr>\n",
       "    <tr>\n",
       "      <th>$9.99 (2008)</th>\n",
       "      <td>0.388384</td>\n",
       "      <td>56</td>\n",
       "    </tr>\n",
       "    <tr>\n",
       "      <th>'71 (2014)</th>\n",
       "      <td>0.221580</td>\n",
       "      <td>312</td>\n",
       "    </tr>\n",
       "    <tr>\n",
       "      <th>'Hellboy': The Seeds of Creation (2004)</th>\n",
       "      <td>0.109314</td>\n",
       "      <td>78</td>\n",
       "    </tr>\n",
       "  </tbody>\n",
       "</table>\n",
       "</div>"
      ],
      "text/plain": [
       "                                         Correlation  rating_counts\n",
       "title                                                              \n",
       "\"Great Performances\" Cats (1998)            0.200654            125\n",
       "$5 a Day (2008)                             0.394174             29\n",
       "$9.99 (2008)                                0.388384             56\n",
       "'71 (2014)                                  0.221580            312\n",
       "'Hellboy': The Seeds of Creation (2004)     0.109314             78"
      ]
     },
     "execution_count": 51,
     "metadata": {},
     "output_type": "execute_result"
    }
   ],
   "source": [
    "corr_pf = corr_pf.join(rating_mean_count['rating_counts'])\n",
    "corr_pf.head()"
   ]
  },
  {
   "cell_type": "code",
   "execution_count": 52,
   "metadata": {},
   "outputs": [
    {
     "data": {
      "text/html": [
       "<div>\n",
       "<style scoped>\n",
       "    .dataframe tbody tr th:only-of-type {\n",
       "        vertical-align: middle;\n",
       "    }\n",
       "\n",
       "    .dataframe tbody tr th {\n",
       "        vertical-align: top;\n",
       "    }\n",
       "\n",
       "    .dataframe thead th {\n",
       "        text-align: right;\n",
       "    }\n",
       "</style>\n",
       "<table border=\"1\" class=\"dataframe\">\n",
       "  <thead>\n",
       "    <tr style=\"text-align: right;\">\n",
       "      <th></th>\n",
       "      <th>Correlation</th>\n",
       "      <th>rating_counts</th>\n",
       "    </tr>\n",
       "    <tr>\n",
       "      <th>title</th>\n",
       "      <th></th>\n",
       "      <th></th>\n",
       "    </tr>\n",
       "  </thead>\n",
       "  <tbody>\n",
       "    <tr>\n",
       "      <th>Pulp Fiction (1994)</th>\n",
       "      <td>1.000000</td>\n",
       "      <td>68787</td>\n",
       "    </tr>\n",
       "    <tr>\n",
       "      <th>Tanu Weds Manu (2011)</th>\n",
       "      <td>0.730543</td>\n",
       "      <td>51</td>\n",
       "    </tr>\n",
       "    <tr>\n",
       "      <th>Eighth Grade (2018)</th>\n",
       "      <td>0.691153</td>\n",
       "      <td>55</td>\n",
       "    </tr>\n",
       "    <tr>\n",
       "      <th>Doodlebug (1997)</th>\n",
       "      <td>0.649161</td>\n",
       "      <td>94</td>\n",
       "    </tr>\n",
       "    <tr>\n",
       "      <th>Eddie Izzard: Circle (2002)</th>\n",
       "      <td>0.610451</td>\n",
       "      <td>54</td>\n",
       "    </tr>\n",
       "  </tbody>\n",
       "</table>\n",
       "</div>"
      ],
      "text/plain": [
       "                             Correlation  rating_counts\n",
       "title                                                  \n",
       "Pulp Fiction (1994)             1.000000          68787\n",
       "Tanu Weds Manu (2011)           0.730543             51\n",
       "Eighth Grade (2018)             0.691153             55\n",
       "Doodlebug (1997)                0.649161             94\n",
       "Eddie Izzard: Circle (2002)     0.610451             54"
      ]
     },
     "execution_count": 52,
     "metadata": {},
     "output_type": "execute_result"
    }
   ],
   "source": [
    "corr_pf[corr_pf['rating_counts']>50].sort_values('Correlation', ascending=False).head()"
   ]
  },
  {
   "cell_type": "code",
   "execution_count": 56,
   "metadata": {},
   "outputs": [
    {
     "data": {
      "text/html": [
       "<div>\n",
       "<style scoped>\n",
       "    .dataframe tbody tr th:only-of-type {\n",
       "        vertical-align: middle;\n",
       "    }\n",
       "\n",
       "    .dataframe tbody tr th {\n",
       "        vertical-align: top;\n",
       "    }\n",
       "\n",
       "    .dataframe thead th {\n",
       "        text-align: right;\n",
       "    }\n",
       "</style>\n",
       "<table border=\"1\" class=\"dataframe\">\n",
       "  <thead>\n",
       "    <tr style=\"text-align: right;\">\n",
       "      <th>title</th>\n",
       "      <th>\"Great Performances\" Cats (1998)</th>\n",
       "      <th>$5 a Day (2008)</th>\n",
       "      <th>$9.99 (2008)</th>\n",
       "      <th>'71 (2014)</th>\n",
       "      <th>'Hellboy': The Seeds of Creation (2004)</th>\n",
       "      <th>'Round Midnight (1986)</th>\n",
       "      <th>'Salem's Lot (2004)</th>\n",
       "      <th>'Til There Was You (1997)</th>\n",
       "      <th>'burbs, The (1989)</th>\n",
       "      <th>'night Mother (1986)</th>\n",
       "      <th>...</th>\n",
       "      <th>[REC]² (2009)</th>\n",
       "      <th>[REC]³ 3 Génesis (2012)</th>\n",
       "      <th>eXistenZ (1999)</th>\n",
       "      <th>iBoy (2017)</th>\n",
       "      <th>loudQUIETloud: A Film About the Pixies (2006)</th>\n",
       "      <th>xXx (2002)</th>\n",
       "      <th>xXx: Return of Xander Cage (2017)</th>\n",
       "      <th>xXx: State of the Union (2005)</th>\n",
       "      <th>¡Three Amigos! (1986)</th>\n",
       "      <th>À nous la liberté (Freedom for Us) (1931)</th>\n",
       "    </tr>\n",
       "    <tr>\n",
       "      <th>userId</th>\n",
       "      <th></th>\n",
       "      <th></th>\n",
       "      <th></th>\n",
       "      <th></th>\n",
       "      <th></th>\n",
       "      <th></th>\n",
       "      <th></th>\n",
       "      <th></th>\n",
       "      <th></th>\n",
       "      <th></th>\n",
       "      <th></th>\n",
       "      <th></th>\n",
       "      <th></th>\n",
       "      <th></th>\n",
       "      <th></th>\n",
       "      <th></th>\n",
       "      <th></th>\n",
       "      <th></th>\n",
       "      <th></th>\n",
       "      <th></th>\n",
       "      <th></th>\n",
       "    </tr>\n",
       "  </thead>\n",
       "  <tbody>\n",
       "    <tr>\n",
       "      <th>4</th>\n",
       "      <td>NaN</td>\n",
       "      <td>NaN</td>\n",
       "      <td>NaN</td>\n",
       "      <td>NaN</td>\n",
       "      <td>NaN</td>\n",
       "      <td>NaN</td>\n",
       "      <td>NaN</td>\n",
       "      <td>NaN</td>\n",
       "      <td>NaN</td>\n",
       "      <td>NaN</td>\n",
       "      <td>...</td>\n",
       "      <td>NaN</td>\n",
       "      <td>NaN</td>\n",
       "      <td>3.5</td>\n",
       "      <td>NaN</td>\n",
       "      <td>NaN</td>\n",
       "      <td>3.5</td>\n",
       "      <td>NaN</td>\n",
       "      <td>NaN</td>\n",
       "      <td>3.0</td>\n",
       "      <td>NaN</td>\n",
       "    </tr>\n",
       "    <tr>\n",
       "      <th>5</th>\n",
       "      <td>NaN</td>\n",
       "      <td>NaN</td>\n",
       "      <td>NaN</td>\n",
       "      <td>NaN</td>\n",
       "      <td>NaN</td>\n",
       "      <td>NaN</td>\n",
       "      <td>NaN</td>\n",
       "      <td>NaN</td>\n",
       "      <td>NaN</td>\n",
       "      <td>NaN</td>\n",
       "      <td>...</td>\n",
       "      <td>NaN</td>\n",
       "      <td>NaN</td>\n",
       "      <td>NaN</td>\n",
       "      <td>NaN</td>\n",
       "      <td>NaN</td>\n",
       "      <td>NaN</td>\n",
       "      <td>NaN</td>\n",
       "      <td>NaN</td>\n",
       "      <td>NaN</td>\n",
       "      <td>NaN</td>\n",
       "    </tr>\n",
       "    <tr>\n",
       "      <th>10</th>\n",
       "      <td>NaN</td>\n",
       "      <td>NaN</td>\n",
       "      <td>NaN</td>\n",
       "      <td>NaN</td>\n",
       "      <td>NaN</td>\n",
       "      <td>NaN</td>\n",
       "      <td>NaN</td>\n",
       "      <td>NaN</td>\n",
       "      <td>NaN</td>\n",
       "      <td>NaN</td>\n",
       "      <td>...</td>\n",
       "      <td>NaN</td>\n",
       "      <td>NaN</td>\n",
       "      <td>NaN</td>\n",
       "      <td>NaN</td>\n",
       "      <td>NaN</td>\n",
       "      <td>NaN</td>\n",
       "      <td>NaN</td>\n",
       "      <td>NaN</td>\n",
       "      <td>NaN</td>\n",
       "      <td>NaN</td>\n",
       "    </tr>\n",
       "    <tr>\n",
       "      <th>14</th>\n",
       "      <td>NaN</td>\n",
       "      <td>NaN</td>\n",
       "      <td>NaN</td>\n",
       "      <td>NaN</td>\n",
       "      <td>NaN</td>\n",
       "      <td>NaN</td>\n",
       "      <td>NaN</td>\n",
       "      <td>NaN</td>\n",
       "      <td>NaN</td>\n",
       "      <td>NaN</td>\n",
       "      <td>...</td>\n",
       "      <td>NaN</td>\n",
       "      <td>NaN</td>\n",
       "      <td>NaN</td>\n",
       "      <td>NaN</td>\n",
       "      <td>NaN</td>\n",
       "      <td>NaN</td>\n",
       "      <td>NaN</td>\n",
       "      <td>NaN</td>\n",
       "      <td>NaN</td>\n",
       "      <td>NaN</td>\n",
       "    </tr>\n",
       "    <tr>\n",
       "      <th>15</th>\n",
       "      <td>NaN</td>\n",
       "      <td>NaN</td>\n",
       "      <td>NaN</td>\n",
       "      <td>NaN</td>\n",
       "      <td>NaN</td>\n",
       "      <td>NaN</td>\n",
       "      <td>NaN</td>\n",
       "      <td>NaN</td>\n",
       "      <td>NaN</td>\n",
       "      <td>NaN</td>\n",
       "      <td>...</td>\n",
       "      <td>NaN</td>\n",
       "      <td>NaN</td>\n",
       "      <td>NaN</td>\n",
       "      <td>NaN</td>\n",
       "      <td>NaN</td>\n",
       "      <td>NaN</td>\n",
       "      <td>NaN</td>\n",
       "      <td>NaN</td>\n",
       "      <td>NaN</td>\n",
       "      <td>NaN</td>\n",
       "    </tr>\n",
       "  </tbody>\n",
       "</table>\n",
       "<p>5 rows × 13357 columns</p>\n",
       "</div>"
      ],
      "text/plain": [
       "title   \"Great Performances\" Cats (1998)  $5 a Day (2008)  $9.99 (2008)  \\\n",
       "userId                                                                    \n",
       "4                                    NaN              NaN           NaN   \n",
       "5                                    NaN              NaN           NaN   \n",
       "10                                   NaN              NaN           NaN   \n",
       "14                                   NaN              NaN           NaN   \n",
       "15                                   NaN              NaN           NaN   \n",
       "\n",
       "title   '71 (2014)  'Hellboy': The Seeds of Creation (2004)  \\\n",
       "userId                                                        \n",
       "4              NaN                                      NaN   \n",
       "5              NaN                                      NaN   \n",
       "10             NaN                                      NaN   \n",
       "14             NaN                                      NaN   \n",
       "15             NaN                                      NaN   \n",
       "\n",
       "title   'Round Midnight (1986)  'Salem's Lot (2004)  \\\n",
       "userId                                                \n",
       "4                          NaN                  NaN   \n",
       "5                          NaN                  NaN   \n",
       "10                         NaN                  NaN   \n",
       "14                         NaN                  NaN   \n",
       "15                         NaN                  NaN   \n",
       "\n",
       "title   'Til There Was You (1997)  'burbs, The (1989)  'night Mother (1986)  \\\n",
       "userId                                                                        \n",
       "4                             NaN                 NaN                   NaN   \n",
       "5                             NaN                 NaN                   NaN   \n",
       "10                            NaN                 NaN                   NaN   \n",
       "14                            NaN                 NaN                   NaN   \n",
       "15                            NaN                 NaN                   NaN   \n",
       "\n",
       "title                     ...                      [REC]² (2009)  \\\n",
       "userId                    ...                                      \n",
       "4                         ...                                NaN   \n",
       "5                         ...                                NaN   \n",
       "10                        ...                                NaN   \n",
       "14                        ...                                NaN   \n",
       "15                        ...                                NaN   \n",
       "\n",
       "title   [REC]³ 3 Génesis (2012)  eXistenZ (1999)  iBoy (2017)  \\\n",
       "userId                                                          \n",
       "4                           NaN              3.5          NaN   \n",
       "5                           NaN              NaN          NaN   \n",
       "10                          NaN              NaN          NaN   \n",
       "14                          NaN              NaN          NaN   \n",
       "15                          NaN              NaN          NaN   \n",
       "\n",
       "title   loudQUIETloud: A Film About the Pixies (2006)  xXx (2002)  \\\n",
       "userId                                                              \n",
       "4                                                 NaN         3.5   \n",
       "5                                                 NaN         NaN   \n",
       "10                                                NaN         NaN   \n",
       "14                                                NaN         NaN   \n",
       "15                                                NaN         NaN   \n",
       "\n",
       "title   xXx: Return of Xander Cage (2017)  xXx: State of the Union (2005)  \\\n",
       "userId                                                                      \n",
       "4                                     NaN                             NaN   \n",
       "5                                     NaN                             NaN   \n",
       "10                                    NaN                             NaN   \n",
       "14                                    NaN                             NaN   \n",
       "15                                    NaN                             NaN   \n",
       "\n",
       "title   ¡Three Amigos! (1986)  À nous la liberté (Freedom for Us) (1931)  \n",
       "userId                                                                    \n",
       "4                         3.0                                        NaN  \n",
       "5                         NaN                                        NaN  \n",
       "10                        NaN                                        NaN  \n",
       "14                        NaN                                        NaN  \n",
       "15                        NaN                                        NaN  \n",
       "\n",
       "[5 rows x 13357 columns]"
      ]
     },
     "execution_count": 56,
     "metadata": {},
     "output_type": "execute_result"
    }
   ],
   "source": [
    "user_movie_rating.head()"
   ]
  },
  {
   "cell_type": "code",
   "execution_count": null,
   "metadata": {},
   "outputs": [],
   "source": []
  },
  {
   "cell_type": "code",
   "execution_count": null,
   "metadata": {},
   "outputs": [],
   "source": []
  },
  {
   "cell_type": "code",
   "execution_count": null,
   "metadata": {},
   "outputs": [],
   "source": []
  },
  {
   "cell_type": "code",
   "execution_count": null,
   "metadata": {},
   "outputs": [],
   "source": []
  },
  {
   "cell_type": "code",
   "execution_count": null,
   "metadata": {},
   "outputs": [],
   "source": []
  },
  {
   "cell_type": "code",
   "execution_count": null,
   "metadata": {},
   "outputs": [],
   "source": []
  }
 ],
 "metadata": {
  "kernelspec": {
   "display_name": "Python [conda env:anaconda3]",
   "language": "python",
   "name": "conda-env-anaconda3-py"
  },
  "language_info": {
   "codemirror_mode": {
    "name": "ipython",
    "version": 3
   },
   "file_extension": ".py",
   "mimetype": "text/x-python",
   "name": "python",
   "nbconvert_exporter": "python",
   "pygments_lexer": "ipython3",
   "version": "3.6.2"
  }
 },
 "nbformat": 4,
 "nbformat_minor": 2
}
